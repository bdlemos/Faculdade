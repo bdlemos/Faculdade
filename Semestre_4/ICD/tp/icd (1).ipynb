{
  "cells": [
    {
      "cell_type": "markdown",
      "metadata": {
        "id": "BkXezPfA9NEC"
      },
      "source": [
        "#BERNARDO"
      ]
    },
    {
      "cell_type": "code",
      "execution_count": 1,
      "metadata": {
        "id": "Kz8TD9zkKeCR"
      },
      "outputs": [],
      "source": [
        "import matplotlib.pyplot as plt\n",
        "import pandas as pd\n",
        "import numpy as np\n",
        "import seaborn as sns\n",
        "import math"
      ]
    },
    {
      "cell_type": "code",
      "execution_count": 2,
      "metadata": {
        "id": "o9c-I5VO9Tn1"
      },
      "outputs": [],
      "source": [
        "df = pd.read_csv('Spotify_Youtube.csv')\n",
        "#oi = df[df['Artist'] == 'Justin Bieber']\n",
        "#oi[['Track', 'Stream', 'Views']].sort_values(by='Views', ascending=False).head(10)"
      ]
    },
    {
      "cell_type": "code",
      "execution_count": 3,
      "metadata": {},
      "outputs": [],
      "source": [
        "# Selecionando colunas importantes\n",
        "df = df[['Artist', 'Album','Track', 'Stream', 'Views', 'official_video']]\n",
        "# Excluindo músicas repetidas\n",
        "df.drop_duplicates(subset=['Track', 'Album'], inplace=True)\n",
        "# Criando coluna com a quantidade de streams + views\n",
        "df['Total_views'] = df['Views'] + df['Stream']\n",
        "# Excluindo valores nulos\n",
        "df['Total_views'] = df['Total_views'].dropna()\n",
        "df['Views'] = df['Views'].dropna()\n"
      ]
    },
    {
      "cell_type": "code",
      "execution_count": 4,
      "metadata": {},
      "outputs": [],
      "source": [
        "# Excluindo músicas com menos de # milhões de views\n",
        "df = df[df['Total_views'] > 1500e6]"
      ]
    },
    {
      "cell_type": "code",
      "execution_count": 5,
      "metadata": {},
      "outputs": [
        {
          "name": "stdout",
          "output_type": "stream",
          "text": [
            "(404, 7)\n",
            "(14, 7)\n"
          ]
        }
      ],
      "source": [
        "# Vendo como esta a distribuição dos dados\n",
        "filtro = df['official_video'] == True\n",
        "print(df[filtro].shape)\n",
        "print(df[~filtro].shape)"
      ]
    },
    {
      "cell_type": "code",
      "execution_count": 6,
      "metadata": {},
      "outputs": [
        {
          "data": {
            "text/html": [
              "<div>\n",
              "<style scoped>\n",
              "    .dataframe tbody tr th:only-of-type {\n",
              "        vertical-align: middle;\n",
              "    }\n",
              "\n",
              "    .dataframe tbody tr th {\n",
              "        vertical-align: top;\n",
              "    }\n",
              "\n",
              "    .dataframe thead th {\n",
              "        text-align: right;\n",
              "    }\n",
              "</style>\n",
              "<table border=\"1\" class=\"dataframe\">\n",
              "  <thead>\n",
              "    <tr style=\"text-align: right;\">\n",
              "      <th></th>\n",
              "      <th>Artist</th>\n",
              "      <th>Album</th>\n",
              "      <th>Track</th>\n",
              "      <th>Stream</th>\n",
              "      <th>Views</th>\n",
              "      <th>official_video</th>\n",
              "      <th>Total_views</th>\n",
              "    </tr>\n",
              "  </thead>\n",
              "  <tbody>\n",
              "    <tr>\n",
              "      <th>124</th>\n",
              "      <td>Eminem</td>\n",
              "      <td>The Eminem Show</td>\n",
              "      <td>Till I Collapse</td>\n",
              "      <td>1.548872e+09</td>\n",
              "      <td>1.931315e+06</td>\n",
              "      <td>False</td>\n",
              "      <td>1.550803e+09</td>\n",
              "    </tr>\n",
              "    <tr>\n",
              "      <th>127</th>\n",
              "      <td>Eminem</td>\n",
              "      <td>Music To Be Murdered By</td>\n",
              "      <td>Godzilla (feat. Juice WRLD)</td>\n",
              "      <td>1.072650e+09</td>\n",
              "      <td>5.470396e+08</td>\n",
              "      <td>False</td>\n",
              "      <td>1.619690e+09</td>\n",
              "    </tr>\n",
              "    <tr>\n",
              "      <th>1151</th>\n",
              "      <td>Luis Fonsi</td>\n",
              "      <td>VIDA</td>\n",
              "      <td>Despacito - Remix</td>\n",
              "      <td>1.593688e+09</td>\n",
              "      <td>2.761902e+07</td>\n",
              "      <td>False</td>\n",
              "      <td>1.621307e+09</td>\n",
              "    </tr>\n",
              "    <tr>\n",
              "      <th>1567</th>\n",
              "      <td>R.E.M.</td>\n",
              "      <td>Out Of Time (25th Anniversary Edition)</td>\n",
              "      <td>Losing My Religion</td>\n",
              "      <td>9.709968e+08</td>\n",
              "      <td>1.050413e+09</td>\n",
              "      <td>False</td>\n",
              "      <td>2.021409e+09</td>\n",
              "    </tr>\n",
              "    <tr>\n",
              "      <th>8937</th>\n",
              "      <td>PSY</td>\n",
              "      <td>Gangnam Style (강남스타일)</td>\n",
              "      <td>Gangnam Style (강남스타일)</td>\n",
              "      <td>3.709911e+08</td>\n",
              "      <td>4.679767e+09</td>\n",
              "      <td>False</td>\n",
              "      <td>5.050759e+09</td>\n",
              "    </tr>\n",
              "    <tr>\n",
              "      <th>8939</th>\n",
              "      <td>PSY</td>\n",
              "      <td>Tik Tock Hits 2020</td>\n",
              "      <td>Gentleman</td>\n",
              "      <td>9.835475e+07</td>\n",
              "      <td>1.539136e+09</td>\n",
              "      <td>False</td>\n",
              "      <td>1.637491e+09</td>\n",
              "    </tr>\n",
              "    <tr>\n",
              "      <th>13009</th>\n",
              "      <td>J. Cole</td>\n",
              "      <td>2014 Forest Hills Drive</td>\n",
              "      <td>No Role Modelz</td>\n",
              "      <td>1.545710e+09</td>\n",
              "      <td>1.172414e+07</td>\n",
              "      <td>False</td>\n",
              "      <td>1.557435e+09</td>\n",
              "    </tr>\n",
              "    <tr>\n",
              "      <th>13019</th>\n",
              "      <td>J Balvin</td>\n",
              "      <td>OASIS</td>\n",
              "      <td>LA CANCIÓN</td>\n",
              "      <td>1.258594e+09</td>\n",
              "      <td>6.257677e+08</td>\n",
              "      <td>False</td>\n",
              "      <td>1.884362e+09</td>\n",
              "    </tr>\n",
              "    <tr>\n",
              "      <th>13503</th>\n",
              "      <td>Drake</td>\n",
              "      <td>Views</td>\n",
              "      <td>One Dance</td>\n",
              "      <td>2.522432e+09</td>\n",
              "      <td>1.692883e+08</td>\n",
              "      <td>False</td>\n",
              "      <td>2.691720e+09</td>\n",
              "    </tr>\n",
              "    <tr>\n",
              "      <th>14072</th>\n",
              "      <td>Justin Bieber</td>\n",
              "      <td>Purpose (Deluxe)</td>\n",
              "      <td>Love Yourself</td>\n",
              "      <td>1.975867e+09</td>\n",
              "      <td>2.731750e+05</td>\n",
              "      <td>False</td>\n",
              "      <td>1.976140e+09</td>\n",
              "    </tr>\n",
              "    <tr>\n",
              "      <th>15401</th>\n",
              "      <td>Migos</td>\n",
              "      <td>Culture</td>\n",
              "      <td>Bad and Boujee (feat. Lil Uzi Vert)</td>\n",
              "      <td>8.479113e+08</td>\n",
              "      <td>1.189719e+09</td>\n",
              "      <td>False</td>\n",
              "      <td>2.037630e+09</td>\n",
              "    </tr>\n",
              "    <tr>\n",
              "      <th>19593</th>\n",
              "      <td>Juice WRLD</td>\n",
              "      <td>Goodbye &amp; Good Riddance</td>\n",
              "      <td>Lucid Dreams</td>\n",
              "      <td>2.148846e+09</td>\n",
              "      <td>8.729711e+08</td>\n",
              "      <td>False</td>\n",
              "      <td>3.021817e+09</td>\n",
              "    </tr>\n",
              "    <tr>\n",
              "      <th>19595</th>\n",
              "      <td>Juice WRLD</td>\n",
              "      <td>Death Race For Love (Bonus Track Version)</td>\n",
              "      <td>Robbery</td>\n",
              "      <td>1.100128e+09</td>\n",
              "      <td>4.584196e+08</td>\n",
              "      <td>False</td>\n",
              "      <td>1.558548e+09</td>\n",
              "    </tr>\n",
              "    <tr>\n",
              "      <th>19743</th>\n",
              "      <td>Lil Tecca</td>\n",
              "      <td>We Love You Tecca</td>\n",
              "      <td>Ransom</td>\n",
              "      <td>1.087264e+09</td>\n",
              "      <td>4.179597e+08</td>\n",
              "      <td>False</td>\n",
              "      <td>1.505224e+09</td>\n",
              "    </tr>\n",
              "  </tbody>\n",
              "</table>\n",
              "</div>"
            ],
            "text/plain": [
              "              Artist                                      Album  \\\n",
              "124           Eminem                            The Eminem Show   \n",
              "127           Eminem                    Music To Be Murdered By   \n",
              "1151      Luis Fonsi                                       VIDA   \n",
              "1567          R.E.M.     Out Of Time (25th Anniversary Edition)   \n",
              "8937             PSY                      Gangnam Style (강남스타일)   \n",
              "8939             PSY                         Tik Tock Hits 2020   \n",
              "13009        J. Cole                    2014 Forest Hills Drive   \n",
              "13019       J Balvin                                      OASIS   \n",
              "13503          Drake                                      Views   \n",
              "14072  Justin Bieber                           Purpose (Deluxe)   \n",
              "15401          Migos                                    Culture   \n",
              "19593     Juice WRLD                    Goodbye & Good Riddance   \n",
              "19595     Juice WRLD  Death Race For Love (Bonus Track Version)   \n",
              "19743      Lil Tecca                          We Love You Tecca   \n",
              "\n",
              "                                     Track        Stream         Views  \\\n",
              "124                        Till I Collapse  1.548872e+09  1.931315e+06   \n",
              "127            Godzilla (feat. Juice WRLD)  1.072650e+09  5.470396e+08   \n",
              "1151                     Despacito - Remix  1.593688e+09  2.761902e+07   \n",
              "1567                    Losing My Religion  9.709968e+08  1.050413e+09   \n",
              "8937                 Gangnam Style (강남스타일)  3.709911e+08  4.679767e+09   \n",
              "8939                             Gentleman  9.835475e+07  1.539136e+09   \n",
              "13009                       No Role Modelz  1.545710e+09  1.172414e+07   \n",
              "13019                           LA CANCIÓN  1.258594e+09  6.257677e+08   \n",
              "13503                            One Dance  2.522432e+09  1.692883e+08   \n",
              "14072                        Love Yourself  1.975867e+09  2.731750e+05   \n",
              "15401  Bad and Boujee (feat. Lil Uzi Vert)  8.479113e+08  1.189719e+09   \n",
              "19593                         Lucid Dreams  2.148846e+09  8.729711e+08   \n",
              "19595                              Robbery  1.100128e+09  4.584196e+08   \n",
              "19743                               Ransom  1.087264e+09  4.179597e+08   \n",
              "\n",
              "      official_video   Total_views  \n",
              "124            False  1.550803e+09  \n",
              "127            False  1.619690e+09  \n",
              "1151           False  1.621307e+09  \n",
              "1567           False  2.021409e+09  \n",
              "8937           False  5.050759e+09  \n",
              "8939           False  1.637491e+09  \n",
              "13009          False  1.557435e+09  \n",
              "13019          False  1.884362e+09  \n",
              "13503          False  2.691720e+09  \n",
              "14072          False  1.976140e+09  \n",
              "15401          False  2.037630e+09  \n",
              "19593          False  3.021817e+09  \n",
              "19595          False  1.558548e+09  \n",
              "19743          False  1.505224e+09  "
            ]
          },
          "execution_count": 6,
          "metadata": {},
          "output_type": "execute_result"
        }
      ],
      "source": [
        "df[~filtro]\n"
      ]
    },
    {
      "cell_type": "code",
      "execution_count": 7,
      "metadata": {},
      "outputs": [
        {
          "data": {
            "text/html": [
              "<div>\n",
              "<style scoped>\n",
              "    .dataframe tbody tr th:only-of-type {\n",
              "        vertical-align: middle;\n",
              "    }\n",
              "\n",
              "    .dataframe tbody tr th {\n",
              "        vertical-align: top;\n",
              "    }\n",
              "\n",
              "    .dataframe thead th {\n",
              "        text-align: right;\n",
              "    }\n",
              "</style>\n",
              "<table border=\"1\" class=\"dataframe\">\n",
              "  <thead>\n",
              "    <tr style=\"text-align: right;\">\n",
              "      <th></th>\n",
              "      <th>Track</th>\n",
              "      <th>Total_views</th>\n",
              "      <th>official_video</th>\n",
              "    </tr>\n",
              "  </thead>\n",
              "  <tbody>\n",
              "    <tr>\n",
              "      <th>365</th>\n",
              "      <td>Despacito</td>\n",
              "      <td>9.586245e+09</td>\n",
              "      <td>True</td>\n",
              "    </tr>\n",
              "    <tr>\n",
              "      <th>12452</th>\n",
              "      <td>Shape of You</td>\n",
              "      <td>9.270404e+09</td>\n",
              "      <td>True</td>\n",
              "    </tr>\n",
              "    <tr>\n",
              "      <th>12469</th>\n",
              "      <td>See You Again (feat. Charlie Puth)</td>\n",
              "      <td>7.295052e+09</td>\n",
              "      <td>True</td>\n",
              "    </tr>\n",
              "    <tr>\n",
              "      <th>10686</th>\n",
              "      <td>Uptown Funk (feat. Bruno Mars)</td>\n",
              "      <td>6.474836e+09</td>\n",
              "      <td>True</td>\n",
              "    </tr>\n",
              "    <tr>\n",
              "      <th>12455</th>\n",
              "      <td>Thinking out Loud</td>\n",
              "      <td>5.701490e+09</td>\n",
              "      <td>True</td>\n",
              "    </tr>\n",
              "    <tr>\n",
              "      <th>12449</th>\n",
              "      <td>Perfect</td>\n",
              "      <td>5.673776e+09</td>\n",
              "      <td>True</td>\n",
              "    </tr>\n",
              "    <tr>\n",
              "      <th>13040</th>\n",
              "      <td>Counting Stars</td>\n",
              "      <td>5.526930e+09</td>\n",
              "      <td>True</td>\n",
              "    </tr>\n",
              "    <tr>\n",
              "      <th>14074</th>\n",
              "      <td>Sorry</td>\n",
              "      <td>5.368065e+09</td>\n",
              "      <td>True</td>\n",
              "    </tr>\n",
              "    <tr>\n",
              "      <th>9569</th>\n",
              "      <td>Sugar</td>\n",
              "      <td>5.320514e+09</td>\n",
              "      <td>True</td>\n",
              "    </tr>\n",
              "    <tr>\n",
              "      <th>12649</th>\n",
              "      <td>Let Her Go</td>\n",
              "      <td>5.161455e+09</td>\n",
              "      <td>True</td>\n",
              "    </tr>\n",
              "  </tbody>\n",
              "</table>\n",
              "</div>"
            ],
            "text/plain": [
              "                                    Track   Total_views official_video\n",
              "365                             Despacito  9.586245e+09           True\n",
              "12452                        Shape of You  9.270404e+09           True\n",
              "12469  See You Again (feat. Charlie Puth)  7.295052e+09           True\n",
              "10686      Uptown Funk (feat. Bruno Mars)  6.474836e+09           True\n",
              "12455                   Thinking out Loud  5.701490e+09           True\n",
              "12449                             Perfect  5.673776e+09           True\n",
              "13040                      Counting Stars  5.526930e+09           True\n",
              "14074                               Sorry  5.368065e+09           True\n",
              "9569                                Sugar  5.320514e+09           True\n",
              "12649                          Let Her Go  5.161455e+09           True"
            ]
          },
          "execution_count": 7,
          "metadata": {},
          "output_type": "execute_result"
        }
      ],
      "source": [
        "#Analisando as musicas com maior soma de streams + views\n",
        "df[['Track','Total_views', 'official_video']].sort_values(by='Total_views',ascending=False).head(10)"
      ]
    },
    {
      "cell_type": "code",
      "execution_count": 8,
      "metadata": {},
      "outputs": [
        {
          "data": {
            "text/html": [
              "<div>\n",
              "<style scoped>\n",
              "    .dataframe tbody tr th:only-of-type {\n",
              "        vertical-align: middle;\n",
              "    }\n",
              "\n",
              "    .dataframe tbody tr th {\n",
              "        vertical-align: top;\n",
              "    }\n",
              "\n",
              "    .dataframe thead th {\n",
              "        text-align: right;\n",
              "    }\n",
              "</style>\n",
              "<table border=\"1\" class=\"dataframe\">\n",
              "  <thead>\n",
              "    <tr style=\"text-align: right;\">\n",
              "      <th></th>\n",
              "      <th>Track</th>\n",
              "      <th>Total_views</th>\n",
              "      <th>official_video</th>\n",
              "    </tr>\n",
              "  </thead>\n",
              "  <tbody>\n",
              "    <tr>\n",
              "      <th>4582</th>\n",
              "      <td>Total Eclipse of the Heart</td>\n",
              "      <td>1.502702e+09</td>\n",
              "      <td>True</td>\n",
              "    </tr>\n",
              "    <tr>\n",
              "      <th>19743</th>\n",
              "      <td>Ransom</td>\n",
              "      <td>1.505224e+09</td>\n",
              "      <td>False</td>\n",
              "    </tr>\n",
              "    <tr>\n",
              "      <th>351</th>\n",
              "      <td>Crazy In Love (feat. Jay-Z)</td>\n",
              "      <td>1.505345e+09</td>\n",
              "      <td>True</td>\n",
              "    </tr>\n",
              "    <tr>\n",
              "      <th>17287</th>\n",
              "      <td>Mercy</td>\n",
              "      <td>1.505591e+09</td>\n",
              "      <td>True</td>\n",
              "    </tr>\n",
              "    <tr>\n",
              "      <th>13639</th>\n",
              "      <td>TiK ToK</td>\n",
              "      <td>1.507439e+09</td>\n",
              "      <td>True</td>\n",
              "    </tr>\n",
              "    <tr>\n",
              "      <th>18071</th>\n",
              "      <td>Finesse - Remix; feat. Cardi B</td>\n",
              "      <td>1.508740e+09</td>\n",
              "      <td>True</td>\n",
              "    </tr>\n",
              "    <tr>\n",
              "      <th>14034</th>\n",
              "      <td>Natural</td>\n",
              "      <td>1.509598e+09</td>\n",
              "      <td>True</td>\n",
              "    </tr>\n",
              "    <tr>\n",
              "      <th>10752</th>\n",
              "      <td>Sex on Fire</td>\n",
              "      <td>1.511814e+09</td>\n",
              "      <td>True</td>\n",
              "    </tr>\n",
              "    <tr>\n",
              "      <th>1549</th>\n",
              "      <td>The Sound of Silence</td>\n",
              "      <td>1.512165e+09</td>\n",
              "      <td>True</td>\n",
              "    </tr>\n",
              "    <tr>\n",
              "      <th>9577</th>\n",
              "      <td>Eres Mía</td>\n",
              "      <td>1.515433e+09</td>\n",
              "      <td>True</td>\n",
              "    </tr>\n",
              "  </tbody>\n",
              "</table>\n",
              "</div>"
            ],
            "text/plain": [
              "                                Track   Total_views official_video\n",
              "4582       Total Eclipse of the Heart  1.502702e+09           True\n",
              "19743                          Ransom  1.505224e+09          False\n",
              "351       Crazy In Love (feat. Jay-Z)  1.505345e+09           True\n",
              "17287                           Mercy  1.505591e+09           True\n",
              "13639                         TiK ToK  1.507439e+09           True\n",
              "18071  Finesse - Remix; feat. Cardi B  1.508740e+09           True\n",
              "14034                         Natural  1.509598e+09           True\n",
              "10752                     Sex on Fire  1.511814e+09           True\n",
              "1549             The Sound of Silence  1.512165e+09           True\n",
              "9577                         Eres Mía  1.515433e+09           True"
            ]
          },
          "execution_count": 8,
          "metadata": {},
          "output_type": "execute_result"
        }
      ],
      "source": [
        "#Analisando as musicas com maior soma de streams + views\n",
        "df[['Track','Total_views', 'official_video']].sort_values(by='Total_views',ascending=True).head(10)"
      ]
    },
    {
      "cell_type": "markdown",
      "metadata": {
        "id": "ZHLO1EWOPzne"
      },
      "source": [
        "## Funcoes Auxiliares"
      ]
    },
    {
      "cell_type": "code",
      "execution_count": 9,
      "metadata": {
        "id": "ZxtmmXhnKuMU"
      },
      "outputs": [],
      "source": [
        "def Intervalo_de_confianca(diffs):\n",
        "  # deve retornar uma tupla com os valores criticos\n",
        "  # exemplo: (critico_inferior, critico_superior)\n",
        "  return (np.percentile(diffs,2.5), np.percentile(diffs,97.5))"
      ]
    },
    {
      "cell_type": "code",
      "execution_count": 10,
      "metadata": {
        "id": "geDWSQTTKyCd"
      },
      "outputs": [],
      "source": [
        "def shuffling(data, col, log=False):\n",
        "  ## Faz o teste de permutação\n",
        "  if log:\n",
        "    data[col] = [math.log(x) for x in data[col].values]\n",
        "    \n",
        "  N = 5000\n",
        "  filtro = data['official_video'] == True\n",
        "\n",
        "  t_obs = data[filtro][col].median() - data[~filtro][col].median()\n",
        "  diffs = np.zeros(N)\n",
        "  for i in range(N):\n",
        "    np.random.seed(i)\n",
        "    np.random.shuffle(filtro.values)\n",
        "    diffs[i] = data[filtro][col].median() - data[~filtro][col].median()\n",
        "  return diffs,t_obs"
      ]
    },
    {
      "cell_type": "code",
      "execution_count": 11,
      "metadata": {
        "id": "kMffYTOzQuc1"
      },
      "outputs": [],
      "source": [
        "def p_value(t_obs, diffs):\n",
        "  # deve retornar o p-valor ou seja,\n",
        "  # a probabilidade de termos uma diferença maior que a estatística de teste\n",
        "  return (diffs > t_obs).mean()"
      ]
    },
    {
      "cell_type": "markdown",
      "metadata": {
        "id": "y2-99etyOWa_"
      },
      "source": [
        "## Somando spotify + youtube"
      ]
    },
    {
      "cell_type": "markdown",
      "metadata": {
        "id": "vlCTKdCaKkSm"
      },
      "source": [
        "### Plotando os graficos"
      ]
    },
    {
      "cell_type": "code",
      "execution_count": 12,
      "metadata": {
        "id": "Luru4H6tKjX2"
      },
      "outputs": [],
      "source": [
        "sem_clipe = df[df['official_video'] == False].dropna().Total_views.values\n",
        "com_clipe = df[df['official_video'] == True].dropna().Total_views.values\n",
        "data = [sem_clipe, com_clipe]"
      ]
    },
    {
      "cell_type": "code",
      "execution_count": 13,
      "metadata": {
        "colab": {
          "base_uri": "https://localhost:8080/",
          "height": 560
        },
        "id": "VLPjyaIm9vEd",
        "outputId": "131425e6-d3d7-42e7-e1ba-3e5dc0df16dc"
      },
      "outputs": [
        {
          "data": {
            "image/png": "[encoded data removed]",
            "text/plain": [
              "<Figure size 500x500 with 1 Axes>"
            ]
          },
          "metadata": {},
          "output_type": "display_data"
        }
      ],
      "source": [
        "fig = plt.figure(figsize =(5, 5))\n",
        "\n",
        "# Creating axes instance\n",
        "ax = fig.add_axes([0, 0, 1, 1])\n",
        "\n",
        "# Creating plot\n",
        "bp = ax.boxplot(data)\n",
        "\n",
        "# show plot\n",
        "ax.set_yscale('log')\n",
        "plt.xticks([1,2],['Sem clipe','Com clipe'])\n",
        "plt.show()"
      ]
    },
    {
      "cell_type": "code",
      "execution_count": 14,
      "metadata": {
        "colab": {
          "base_uri": "https://localhost:8080/",
          "height": 487
        },
        "id": "iudvbDBuKpz3",
        "outputId": "50c9ab4a-cfd7-4e44-c3b7-04a94691517f"
      },
      "outputs": [
        {
          "data": {
            "image/png": "[encoded data removed]",
            "text/plain": [
              "<Figure size 500x500 with 1 Axes>"
            ]
          },
          "metadata": {},
          "output_type": "display_data"
        }
      ],
      "source": [
        "# Dados de exemplo (substitua pelo seu conjunto de dados)\n",
        "fig, ax = plt.subplots(figsize=(5, 5))\n",
        "\n",
        "ax = sns.violinplot(data = df,x=\"official_video\", y=\"Total_views\",split=True, inner=\"quart\")\n",
        "\n",
        "# Ajuste a escala logarítmica no eixo y\n",
        "ax.set_yscale('log')\n",
        "\n",
        "# Defina rótulos para os violinos\n",
        "ax.set_xticks([0, 1])\n",
        "ax.set_xticklabels(['Sem clipe', 'Com clipe'])\n",
        "\n",
        "# Adicione um título\n",
        "ax.set_title('Violin Plot em Escala Log')\n",
        "\n",
        "plt.show()\n"
      ]
    },
    {
      "cell_type": "markdown",
      "metadata": {
        "id": "lAuZCruxKs-A"
      },
      "source": [
        "### Testando hipotese"
      ]
    },
    {
      "cell_type": "markdown",
      "metadata": {
        "id": "ywdGT_UiKva2"
      },
      "source": [
        "H0 = Músicas com clipe e sem clipe possuem o mesmo tanto de visualizações + streams"
      ]
    },
    {
      "cell_type": "code",
      "execution_count": 15,
      "metadata": {
        "id": "OWic2QkKK4PA"
      },
      "outputs": [],
      "source": [
        "aux = df\n",
        "diffs, t_obs = shuffling(aux,'Total_views', log=True)"
      ]
    },
    {
      "cell_type": "code",
      "execution_count": 16,
      "metadata": {},
      "outputs": [
        {
          "data": {
            "image/png": "[encoded data removed]",
            "text/plain": [
              "<Figure size 640x480 with 1 Axes>"
            ]
          },
          "metadata": {},
          "output_type": "display_data"
        }
      ],
      "source": [
        "plt.hist(diffs, bins=20, rwidth=0.95);"
      ]
    },
    {
      "cell_type": "code",
      "execution_count": 17,
      "metadata": {
        "colab": {
          "base_uri": "https://localhost:8080/"
        },
        "id": "Nn89Bx5hK62o",
        "outputId": "333b2a87-6c97-436f-8df1-39a802b7599a"
      },
      "outputs": [
        {
          "name": "stdout",
          "output_type": "stream",
          "text": [
            "Intervalo de confiança com 95%: (-0.2702624891255726, 0.19808950184532761)\n",
            "Valor observado:  0.1977506830795619\n",
            "p-valor: 0.0252\n"
          ]
        }
      ],
      "source": [
        "print('Intervalo de confiança com 95%:', Intervalo_de_confianca(diffs))\n",
        "print('Valor observado: ', t_obs)\n",
        "print('p-valor:', p_value(t_obs, diffs))"
      ]
    },
    {
      "cell_type": "markdown",
      "metadata": {
        "id": "gUylX1nMMrQG"
      },
      "source": [
        "Como podemos observar, o valor observado esta fora do intervalo de confiança gerado pelo teste de permutação, logo rejeitamos a hipótese nula, o que significa que músicas com clipes tendem a ter mais visualizações no total(somando streams e views)"
      ]
    },
    {
      "cell_type": "markdown",
      "metadata": {
        "id": "t1iIgi-IOq3D"
      },
      "source": [
        "## Apenas spotify"
      ]
    },
    {
      "cell_type": "markdown",
      "metadata": {
        "id": "QGuNuEgROkTc"
      },
      "source": [
        "### Plotando os graficos"
      ]
    },
    {
      "cell_type": "code",
      "execution_count": 18,
      "metadata": {
        "id": "QHPYGjSLOzak"
      },
      "outputs": [],
      "source": [
        "sem_clipe = df[df['official_video'] == False].dropna().Stream.values\n",
        "com_clipe = df[df['official_video'] == True].dropna().Stream.values\n",
        "data = [sem_clipe, com_clipe]"
      ]
    },
    {
      "cell_type": "code",
      "execution_count": 19,
      "metadata": {
        "id": "9bqWLRA6O1PI"
      },
      "outputs": [
        {
          "data": {
            "image/png": "[encoded data removed]",
            "text/plain": [
              "<Figure size 500x500 with 1 Axes>"
            ]
          },
          "metadata": {},
          "output_type": "display_data"
        }
      ],
      "source": [
        "fig = plt.figure(figsize =(5, 5))\n",
        "\n",
        "# Creating axes instance\n",
        "ax = fig.add_axes([0, 0, 1, 1])\n",
        "\n",
        "# Creating plot\n",
        "bp = ax.boxplot(data)\n",
        "\n",
        "# show plot\n",
        "ax.set_yscale('log')\n",
        "plt.xticks([1,2],['Sem clipe','Com clipe'])\n",
        "plt.show()"
      ]
    },
    {
      "cell_type": "code",
      "execution_count": 20,
      "metadata": {
        "id": "9ySgbd9iO6z5"
      },
      "outputs": [
        {
          "data": {
            "image/png": "[encoded data removed]",
            "text/plain": [
              "<Figure size 500x500 with 1 Axes>"
            ]
          },
          "metadata": {},
          "output_type": "display_data"
        }
      ],
      "source": [
        "# Dados de exemplo (substitua pelo seu conjunto de dados)\n",
        "fig, ax = plt.subplots(figsize=(5, 5))\n",
        "\n",
        "ax = sns.violinplot(data = df,x=\"official_video\", y=\"Stream\",split=True, inner=\"quart\")\n",
        "\n",
        "# Ajuste a escala logarítmica no eixo y\n",
        "ax.set_yscale('log')\n",
        "\n",
        "# Defina rótulos para os violinos\n",
        "ax.set_xticks([0, 1])\n",
        "ax.set_xticklabels(['Sem clipe', 'Com clipe'])\n",
        "\n",
        "# Adicione um título\n",
        "ax.set_title('Violin Plot em Escala Log')\n",
        "\n",
        "plt.show()\n"
      ]
    },
    {
      "cell_type": "markdown",
      "metadata": {
        "id": "gP8tFziFPN-H"
      },
      "source": [
        "### Testando hipotese"
      ]
    },
    {
      "cell_type": "markdown",
      "metadata": {
        "id": "617REnzePSkO"
      },
      "source": [
        "H0 = Músicas com clipe e sem clipe possuem o mesmo tanto de visualizações + streams"
      ]
    },
    {
      "cell_type": "code",
      "execution_count": 21,
      "metadata": {
        "id": "tCUDl_dKP_l8"
      },
      "outputs": [],
      "source": [
        "aux = df\n",
        "diffs, t_obs = shuffling(aux,'Stream', log=True)"
      ]
    },
    {
      "cell_type": "code",
      "execution_count": 22,
      "metadata": {
        "colab": {
          "base_uri": "https://localhost:8080/",
          "height": 448
        },
        "id": "hWZDGHNgQE1u",
        "outputId": "b87160fb-d6e6-4a12-9f1b-c4a2e39ddfa2"
      },
      "outputs": [
        {
          "data": {
            "image/png": "[encoded data removed]",
            "text/plain": [
              "<Figure size 640x480 with 1 Axes>"
            ]
          },
          "metadata": {},
          "output_type": "display_data"
        }
      ],
      "source": [
        "plt.hist(diffs, bins=20, rwidth=0.95);"
      ]
    },
    {
      "cell_type": "code",
      "execution_count": 23,
      "metadata": {
        "colab": {
          "base_uri": "https://localhost:8080/"
        },
        "id": "8SuvHoHWQNZH",
        "outputId": "1528c6ca-f6b8-4bae-a1f9-b245ffd1b4b4"
      },
      "outputs": [
        {
          "name": "stdout",
          "output_type": "stream",
          "text": [
            "Intervalo de confiança com 95%: (-0.2465988422950783, 0.3043485309186924)\n",
            "Valor observado:  -0.044065023414312066\n",
            "p-valor: 0.6312\n"
          ]
        }
      ],
      "source": [
        "print('Intervalo de confiança com 95%:', Intervalo_de_confianca(diffs))\n",
        "print('Valor observado: ', t_obs)\n",
        "print('p-valor:', p_value(t_obs, diffs))"
      ]
    },
    {
      "cell_type": "code",
      "execution_count": 24,
      "metadata": {},
      "outputs": [
        {
          "name": "stdout",
          "output_type": "stream",
          "text": [
            "Threshold \t Spotify+Youtube \t Spotify\n",
            "100e6 \t\t 0.0000 \t\t 0.1202\n",
            "200e6 \t\t 0.0000 \t\t 0.8974\n",
            "300e6 \t\t 0.0000 \t\t 0.9562\n",
            "400e6 \t\t 0.0000 \t\t 0.9984\n",
            "500e6 \t\t 0.0000 \t\t 0.9974\n",
            "1000e6 \t\t 0.0506 \t\t 0.9904\n",
            "1500e6 \t\t 0.0252 \t\t 0.6312\n"
          ]
        }
      ],
      "source": [
        "print('Threshold \\t Spotify+Youtube \\t Spotify')\n",
        "print('100e6 \\t\\t 0.0000 \\t\\t 0.1202')\n",
        "print('200e6 \\t\\t 0.0000 \\t\\t 0.8974')\n",
        "print('300e6 \\t\\t 0.0000 \\t\\t 0.9562')\n",
        "print('400e6 \\t\\t 0.0000 \\t\\t 0.9984')\n",
        "print('500e6 \\t\\t 0.0000 \\t\\t 0.9974')\n",
        "print('1000e6 \\t\\t 0.0506 \\t\\t 0.9904')\n",
        "print('1500e6 \\t\\t 0.0252 \\t\\t 0.6312')"
      ]
    },
    {
      "cell_type": "markdown",
      "metadata": {},
      "source": [
        "Analisando esses resultados, podemos dizer que quando a música é um hit mundial (+ de 1,5M), se tratando apenas de spotify o fato dela não possuir clipe oficial não importa.\n",
        "Quando consideramos musicas com mais de 200M de streams totais, se tratando apenas de spotify o fato dela não possuir clipe oficial não importa.\n",
        "Usando o threshold entre 300 e 500 milhoes, rejeitamos a hipotese nula, ou seja, a presença de clipe faz a música ter mais visualizações tanto no spotify, quanto no youtube."
      ]
    },
    {
      "cell_type": "markdown",
      "metadata": {},
      "source": [
        "# irei aprontar"
      ]
    },
    {
      "cell_type": "markdown",
      "metadata": {},
      "source": []
    }
  ],
  "metadata": {
    "colab": {
      "collapsed_sections": [
        "BkXezPfA9NEC",
        "ZHLO1EWOPzne",
        "y2-99etyOWa_",
        "vlCTKdCaKkSm",
        "lAuZCruxKs-A",
        "t1iIgi-IOq3D",
        "QGuNuEgROkTc",
        "gP8tFziFPN-H"
      ],
      "provenance": []
    },
    "kernelspec": {
      "display_name": "Python 3",
      "name": "python3"
    },
    "language_info": {
      "codemirror_mode": {
        "name": "ipython",
        "version": 3
      },
      "file_extension": ".py",
      "mimetype": "text/x-python",
      "name": "python",
      "nbconvert_exporter": "python",
      "pygments_lexer": "ipython3",
      "version": "3.10.12"
    }
  },
  "nbformat": 4,
  "nbformat_minor": 0
}
