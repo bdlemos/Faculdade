{
 "cells": [
  {
   "cell_type": "code",
   "execution_count": 1,
   "metadata": {},
   "outputs": [
    {
     "name": "stdout",
     "output_type": "stream",
     "text": [
      "[[1 1]\n",
      " [3 3]]\n",
      "[[-0.31622777 -0.9486833 ]\n",
      " [-0.9486833   0.31622777]]\n",
      "[4.47213595e+00 3.77598896e-16]\n",
      "[[-0.70710678 -0.70710678]\n",
      " [-0.70710678  0.70710678]]\n"
     ]
    }
   ],
   "source": [
    "from scipy import linalg\n",
    "import numpy as np\n",
    "a = np.matrix('1 1; 3 3')\n",
    "U, s, Vh = linalg.svd(a)\n",
    "print(a)\n",
    "print(U)\n",
    "print(s)\n",
    "print(Vh)"
   ]
  },
  {
   "cell_type": "code",
   "execution_count": 2,
   "metadata": {},
   "outputs": [
    {
     "name": "stdout",
     "output_type": "stream",
     "text": [
      "[[ 6.   5. ]\n",
      " [ 1.   0. ]\n",
      " [ 2.  -5.4]]\n",
      "[[ 0.91716241  0.37824238  0.12548235]\n",
      " [ 0.0705563   0.15577911 -0.98526883]\n",
      " [-0.39221796  0.91250511  0.11618736]]\n",
      "[8.23870235 5.22338813]\n",
      "[[ 0.58129237  0.81369477]\n",
      " [ 0.81369477 -0.58129237]]\n"
     ]
    }
   ],
   "source": [
    "from scipy import linalg\n",
    "import numpy as np\n",
    "a = np.matrix('6 5; 1 0;2 -5.4')\n",
    "U, E, V = linalg.svd(a)\n",
    "print(a)\n",
    "print(U)\n",
    "print(E)\n",
    "print(V)"
   ]
  },
  {
   "cell_type": "code",
   "execution_count": 2,
   "metadata": {},
   "outputs": [
    {
     "name": "stdout",
     "output_type": "stream",
     "text": [
      "[[-0.33333333 -0.66666667  0.66666667]\n",
      " [-0.66666667 -0.33333333 -0.66666667]\n",
      " [ 0.66666667 -0.66666667 -0.33333333]]\n",
      "[[-3.  3.]\n",
      " [ 0. -3.]\n",
      " [ 0.  0.]]\n"
     ]
    }
   ],
   "source": [
    "from scipy import linalg\n",
    "import numpy as np\n",
    "a = np.matrix('1 1; 2 -1; -2 4')\n",
    "Q, R = linalg.qr(a)\n",
    "print(Q)\n",
    "print(R)"
   ]
  },
  {
   "cell_type": "code",
   "execution_count": 4,
   "metadata": {},
   "outputs": [
    {
     "name": "stdout",
     "output_type": "stream",
     "text": [
      "0.20094138864224395\n",
      "0.20094138864224395\n"
     ]
    }
   ],
   "source": [
    "from scipy import linalg\n",
    "import numpy as np\n",
    "a = np.matrix('0.155066927; -0.1277955')\n",
    "b = np.matrix('-0.155066927; 0.1277955')\n",
    "print(linalg.norm(a[:,0]))\n",
    "print(linalg.norm(b[:,0]))"
   ]
  },
  {
   "cell_type": "code",
   "execution_count": 5,
   "metadata": {},
   "outputs": [
    {
     "name": "stdout",
     "output_type": "stream",
     "text": [
      "0.1914465698243617\n",
      "0.1914465698243617\n"
     ]
    }
   ],
   "source": [
    "from scipy import linalg\n",
    "import numpy as np\n",
    "a = np.matrix('6 5; 1 0;2 -5.4') # Matriz A da questao\n",
    "b = np.matrix('-0.378242; -0.155779; -0.912505') # Minha resposta\n",
    "c = np.matrix('0.378242; 0.155779; 0.912505') # Resposta do gabarito\n",
    "d = np.linalg.pinv(a) # calculo da pseudoinversa\n",
    "print(linalg.norm(d*b))\n",
    "print(linalg.norm(d*c))\n",
    "\n"
   ]
  },
  {
   "cell_type": "code",
   "execution_count": 10,
   "metadata": {},
   "outputs": [
    {
     "name": "stdout",
     "output_type": "stream",
     "text": [
      "[8.58442834 2.19488191 1.22068975]\n",
      "[9.35268949 2.32576307 1.05736724]\n",
      "[8.58442834+0.j 1.22068975+0.j 2.19488191+0.j]\n"
     ]
    }
   ],
   "source": [
    "from scipy import linalg\n",
    "import numpy as np\n",
    "h = np.matrix('1 1 1; -1 9 2; 0 -1 2')\n",
    "a = h\n",
    "Convergiu = 0\n",
    "while Convergiu == 0:\n",
    "    Q, R = linalg.qr(a)\n",
    "    a = np.dot(R,Q)\n",
    "    ninf = linalg.norm(linalg.tril(a)-np.diag(np.diag(a,0)),2)\n",
    "    if 1e-15 > ninf:\n",
    "        Convergiu = 1\n",
    "print(np.diag(a))\n",
    "_, s, _ = linalg.svd(h)\n",
    "print(s)\n",
    "print(linalg.eigvals(h))"
   ]
  },
  {
   "cell_type": "code",
   "execution_count": 46,
   "metadata": {},
   "outputs": [],
   "source": [
    "def bidiagonal(A: np.ndarray):\n",
    "  m, n = A.shape\n",
    "\n",
    "  if n > m:\n",
    "    A = A.T\n",
    "  \n",
    "  m, n = A.shape\n",
    "\n",
    "  for k in range(1, n+1):\n",
    "    x = A[k-1:m, k-1:k]\n",
    "\n",
    "    vk = np.sign(x[0])*linalg.norm(x)*np.eye(m-k+1, 1) + x\n",
    "    vk = 1.0 / linalg.norm(vk,2) * vk\n",
    "\n",
    "    F = np.eye(m-k+1, m-k+1) - 2.0*np.dot(vk, vk.T)\n",
    "\n",
    "    E = np.zeros((m, m))\n",
    "    E[0:k-1, 0:k-1] = np.eye(k-1, k-1)\n",
    "    E[k-1:m, k-1:m] = F\n",
    "\n",
    "    A = np.dot(E, A)\n",
    "    \n",
    "    if k <= n-2:\n",
    "      x = A[k-1:k, k:n].T\n",
    "      vk = np.sign(x[0])*linalg.norm(x)*np.eye(n-k, 1) + x\n",
    "\n",
    "      F = np.eye(n-k, n-k) - 2/(linalg.norm(vk)**2) * np.dot(vk, vk.T)\n",
    "      \n",
    "      D = np.zeros((n, n))\n",
    "      D[0:k, 0:k] = np.eye(k, k)\n",
    "      D[k:n, k:n] = F\n",
    "\n",
    "      A = np.dot(A, D)\n",
    "    \n",
    "  return A"
   ]
  },
  {
   "cell_type": "code",
   "execution_count": 50,
   "metadata": {},
   "outputs": [],
   "source": [
    "def hessenberg(A: np.ndarray):\n",
    "  H = A\n",
    "  m, n = A.shape\n",
    "  for k in range(1, m-1):\n",
    "    x = H[k:m, k-1:n]\n",
    "    vk = np.sign(x[0])*np.linalg.norm(x)*np.eye(m-k, 1) + x\n",
    "\n",
    "    F = np.eye(m-k, m-k) - 2/(linalg.norm(vk)**2) * np.dot(vk, vk.T)\n",
    "    \n",
    "    Qt = np.zeros((m, m))\n",
    "    Qt[0:k, 0:k] = np.eye(k, k)\n",
    "    Qt[k:m, k:m] = F\n",
    "\n",
    "    H = np.dot(np.dot(Qt, H), Qt.T)\n",
    "\n",
    "  return H"
   ]
  },
  {
   "cell_type": "code",
   "execution_count": 48,
   "metadata": {},
   "outputs": [
    {
     "data": {
      "text/plain": [
       "array([[-2.23606798e+00, -1.84390889e+00,  2.82024990e-18],\n",
       "       [ 0.00000000e+00,  2.10321882e+00,  1.56622678e+00],\n",
       "       [ 0.00000000e+00, -3.73476406e-16, -8.50531749e-01]])"
      ]
     },
     "execution_count": 48,
     "metadata": {},
     "output_type": "execute_result"
    }
   ],
   "source": [
    "# Exercício 3\n",
    "\n",
    "A = np.array([[2, -1, 0], [-1, 2, -1], [0, -1, 2]])\n",
    "bidiagonal(A)"
   ]
  },
  {
   "cell_type": "code",
   "execution_count": 51,
   "metadata": {},
   "outputs": [
    {
     "data": {
      "text/plain": [
       "array([2.29155781e+01, 2.29155781e+01, 7.75702348e+00, 7.75702348e+00,\n",
       "       5.48338000e+00, 5.48338000e+00, 3.41136512e+00, 3.41136512e+00,\n",
       "       5.01271366e-45])"
      ]
     },
     "execution_count": 51,
     "metadata": {},
     "output_type": "execute_result"
    }
   ],
   "source": [
    "# Exercício 4\n",
    "\n",
    "A = np.array([[2, 4, 5, 8], [6, 9, 3, 0], [6, 9, 5, 7], [7, 3, 5, 2], [9, 4, 1, 4]])\n",
    "\n",
    "B = bidiagonal(A)\n",
    "m, n = B.shape\n",
    "\n",
    "H = np.zeros((m+n, m+n))\n",
    "H[n:m+n, 0:n] = B\n",
    "H[0:n, n:m+n] = B.T\n",
    "\n",
    "_, sigma, _ = linalg.svd(H)\n",
    "\n",
    "sigma"
   ]
  }
 ],
 "metadata": {
  "kernelspec": {
   "display_name": "Python 3.8.10 64-bit",
   "language": "python",
   "name": "python3"
  },
  "language_info": {
   "codemirror_mode": {
    "name": "ipython",
    "version": 3
   },
   "file_extension": ".py",
   "mimetype": "text/x-python",
   "name": "python",
   "nbconvert_exporter": "python",
   "pygments_lexer": "ipython3",
   "version": "3.8.10"
  },
  "orig_nbformat": 4,
  "vscode": {
   "interpreter": {
    "hash": "916dbcbb3f70747c44a77c7bcd40155683ae19c65e1c03b4aa3499c5328201f1"
   }
  }
 },
 "nbformat": 4,
 "nbformat_minor": 2
}
