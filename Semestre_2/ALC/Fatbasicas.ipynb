{
 "cells": [
  {
   "cell_type": "markdown",
   "metadata": {},
   "source": [
    "## Álgebra Linear Computacional\n",
    "### Fatorações básicas (Eliminação de Gauss, Pivoteamento Parcial e Cholesky)\n",
    "#### Profs. Alexandre Salles da Cunha e Ana Paula Couto da Silva"
   ]
  },
  {
   "cell_type": "code",
   "execution_count": 2,
   "metadata": {},
   "outputs": [],
   "source": [
    "import numpy as np\n",
    "import math\n"
   ]
  },
  {
   "cell_type": "markdown",
   "metadata": {},
   "source": [
    "#### Para explorar o conteúdo da biblioteca np (ou qualquer outra), digite np. e complete com \"tab\" para que o sistema ofereça as opções"
   ]
  },
  {
   "cell_type": "code",
   "execution_count": 3,
   "metadata": {},
   "outputs": [],
   "source": [
    "A = np.array([[21,21,-7],[11,6,0],[-7,6,8]],dtype = 'float64')\n",
    "R = np.random.random((4,4))\n",
    "I = np.eye((4))\n",
    "b = np.array([2,3,3,9],dtype='float64')\n",
    "x = np.linalg.solve(R,b)\n",
    "n = len(A)\n"
   ]
  },
  {
   "cell_type": "code",
   "execution_count": 7,
   "metadata": {},
   "outputs": [],
   "source": [
    "def EliminacaoGauss(A):\n",
    "    n = len(A)\n",
    "    #U = A (esta instrucao difere da abaixo .copy(A))\n",
    "    U = np.copy(A)\n",
    "    L = np.eye(n)\n",
    "    for j in range(0,n-1):\n",
    "        for i in range(j+1,n):\n",
    "            L[i,j] = U[i,j]/U[j,j]\n",
    "            U[i,j:n] = U[i,j:n] - L[i,j]*U[j,j:n]\n",
    "    return U,L"
   ]
  },
  {
   "cell_type": "code",
   "execution_count": 8,
   "metadata": {},
   "outputs": [
    {
     "name": "stderr",
     "output_type": "stream",
     "text": [
      "/tmp/ipykernel_1335/402579995.py:8: RuntimeWarning: divide by zero encountered in double_scalars\n",
      "  L[i,j] = U[i,j]/U[j,j]\n",
      "/tmp/ipykernel_1335/402579995.py:9: RuntimeWarning: invalid value encountered in multiply\n",
      "  U[i,j:n] = U[i,j:n] - L[i,j]*U[j,j:n]\n",
      "/tmp/ipykernel_1335/402579995.py:8: RuntimeWarning: invalid value encountered in double_scalars\n",
      "  L[i,j] = U[i,j]/U[j,j]\n"
     ]
    }
   ],
   "source": [
    "U,L = EliminacaoGauss(A)"
   ]
  },
  {
   "cell_type": "code",
   "execution_count": 9,
   "metadata": {},
   "outputs": [
    {
     "name": "stdout",
     "output_type": "stream",
     "text": [
      "[[  0.  -4. -16.]\n",
      " [ nan -inf -inf]\n",
      " [ nan  nan  nan]]\n",
      "[[  1.   0.   0.]\n",
      " [-inf   1.   0.]\n",
      " [ inf  nan   1.]]\n"
     ]
    }
   ],
   "source": [
    "print(U)\n",
    "print(L)"
   ]
  },
  {
   "cell_type": "code",
   "execution_count": 10,
   "metadata": {},
   "outputs": [],
   "source": [
    "def EliminacaoGauss_Outer(A):\n",
    "    # nao implementa troca de linhas\n",
    "    n = len(A)\n",
    "    U = np.full((n,n),0.0)\n",
    "    L = np.eye(n)\n",
    "    AC = np.copy(A)\n",
    "    for j in range(0,n-1):\n",
    "        L[j+1:,j] = AC[j+1:,j]/AC[j,j]\n",
    "        U[j,j:]    = AC[j,j:]\n",
    "        AC[j+1:,j+1:] = AC[j+1:,j+1:] - np.outer(L[j+1:,j],U[j,j+1:])\n",
    "        #print(AC[j+1:,j+1:])\n",
    "        #print(U)\n",
    "    U[n-1,n-1] = AC[n-1,n-1]\n",
    "    #print(L)\n",
    "    #print(U)\n",
    "    return L,U"
   ]
  },
  {
   "cell_type": "code",
   "execution_count": 11,
   "metadata": {
    "scrolled": true
   },
   "outputs": [
    {
     "name": "stdout",
     "output_type": "stream",
     "text": [
      "[[ 0. nan nan]\n",
      " [nan nan nan]\n",
      " [nan nan nan]]\n"
     ]
    },
    {
     "name": "stderr",
     "output_type": "stream",
     "text": [
      "/tmp/ipykernel_1335/1194319198.py:8: RuntimeWarning: divide by zero encountered in divide\n",
      "  L[j+1:,j] = AC[j+1:,j]/AC[j,j]\n",
      "/tmp/ipykernel_1335/1194319198.py:8: RuntimeWarning: invalid value encountered in divide\n",
      "  L[j+1:,j] = AC[j+1:,j]/AC[j,j]\n",
      "/tmp/ipykernel_1335/1352835577.py:2: RuntimeWarning: invalid value encountered in matmul\n",
      "  print(np.matmul(L,U)-A)\n"
     ]
    }
   ],
   "source": [
    "L,U = EliminacaoGauss_Outer(A)\n",
    "print(np.matmul(L,U)-A)"
   ]
  },
  {
   "cell_type": "code",
   "execution_count": 5,
   "metadata": {},
   "outputs": [],
   "source": [
    "def DeterminaLinhaPivot(U,j):\n",
    "    vmax = abs(U[j,j])\n",
    "    jmax = j\n",
    "    for i in range(j+1,len(U)):\n",
    "        if abs(U[i,j]) > vmax:\n",
    "            vmax = abs(U[i,j])\n",
    "            jmax = i\n",
    "    return jmax\n",
    "\n",
    "def Troca(U,L,j,p,pivot):\n",
    "    for i in range(0,j):\n",
    "        # parte em L\n",
    "        t = L[j,i]\n",
    "        L[j,i] = L[p,i]\n",
    "        L[p,i] = t\n",
    "    for i in range(j,len(U)):\n",
    "        # parte em U\n",
    "        t = U[j,i]\n",
    "        U[j,i] = U[p,i]\n",
    "        U[p,i] = t\n",
    "    \n",
    "    t = pivot[j]\n",
    "    pivot[j] = pivot[p]\n",
    "    pivot[p] = t\n",
    "    \n",
    "\n",
    "def EliminacaoGaussPivoteamento(A):\n",
    "    n = len(A)\n",
    "    U = np.copy(A)\n",
    "    L = np.eye(n)\n",
    "    pivot = np.arange(0,n,1)\n",
    "    for j in range(0,n-1):\n",
    "        p = DeterminaLinhaPivot(U,j)\n",
    "        #print('pivot',p)\n",
    "        if (p != j):\n",
    "            Troca(U,L,j,p,pivot)\n",
    "        for i in range(j+1,n):\n",
    "            L[i,j] = U[i,j]/U[j,j]\n",
    "            U[i,j:n] = U[i,j:n] - L[i,j]*U[j,j:n]\n",
    "    return L,U,pivot"
   ]
  },
  {
   "cell_type": "code",
   "execution_count": 6,
   "metadata": {},
   "outputs": [
    {
     "name": "stdout",
     "output_type": "stream",
     "text": [
      "[[ 1.          0.          0.        ]\n",
      " [-0.33333333  1.          0.        ]\n",
      " [ 0.52380952 -0.38461538  1.        ]]\n",
      "[[21.         21.         -7.        ]\n",
      " [ 0.         13.          5.66666667]\n",
      " [ 0.          0.          5.84615385]]\n",
      "[0 2 1]\n"
     ]
    }
   ],
   "source": [
    "L,U,pivot = EliminacaoGaussPivoteamento(A)\n",
    "print(L)\n",
    "print(U)\n",
    "print(pivot)"
   ]
  },
  {
   "cell_type": "code",
   "execution_count": 8,
   "metadata": {},
   "outputs": [],
   "source": [
    "def EliminacaoGauss_Outer_Pivotal(A):\n",
    "    # implementa pivoteamento parcial na visao por colunas\n",
    "    n = len(A)\n",
    "    pivot = np.arange(0,n,1)\n",
    "    U = np.full((n,n),0.0)\n",
    "    L = np.eye(n)\n",
    "    AC = np.copy(A)\n",
    "    for j in range(0,n-1):\n",
    "        \n",
    "        p = DeterminaLinhaPivot(AC,j)\n",
    "        if (p != j):\n",
    "            Troca(AC,L,j,p,pivot)\n",
    "                \n",
    "        L[j+1:,j] = AC[j+1:,j]/AC[j,j]\n",
    "        U[j,j:]    = AC[j,j:]\n",
    "        AC[j+1:,j+1:] = AC[j+1:,j+1:] - np.outer(L[j+1:,j],U[j,j+1:])\n",
    "        #print(AC[j+1:,j+1:])\n",
    "        #print(U)\n",
    "    U[n-1,n-1] = AC[n-1,n-1]\n",
    "    #print(L)\n",
    "    #print(U)\n",
    "    return L,U,pivot"
   ]
  },
  {
   "cell_type": "code",
   "execution_count": 9,
   "metadata": {},
   "outputs": [
    {
     "name": "stdout",
     "output_type": "stream",
     "text": [
      "[[ 1.          0.          0.        ]\n",
      " [-0.33333333  1.          0.        ]\n",
      " [ 0.52380952 -0.38461538  1.        ]]\n",
      "[[21.         21.         -7.        ]\n",
      " [ 0.         13.          5.66666667]\n",
      " [ 0.          0.          5.84615385]]\n",
      "[0 2 1]\n"
     ]
    }
   ],
   "source": [
    "L,U,pivot = EliminacaoGauss_Outer_Pivotal(A)\n",
    "print(L)\n",
    "print(U)\n",
    "print(pivot)"
   ]
  },
  {
   "cell_type": "code",
   "execution_count": 16,
   "metadata": {},
   "outputs": [
    {
     "name": "stdout",
     "output_type": "stream",
     "text": [
      "[[ 1.          0.          0.        ]\n",
      " [-0.5         1.          0.        ]\n",
      " [ 0.          0.88888889  1.        ]]\n",
      "[[ 28.         -39.         -12.        ]\n",
      " [  0.          -4.5          6.        ]\n",
      " [  0.           0.         -21.33333333]]\n",
      "[[0. 0. 1.]\n",
      " [0. 1. 0.]\n",
      " [1. 0. 0.]]\n"
     ]
    }
   ],
   "source": [
    "import scipy\n",
    "import scipy.linalg\n",
    "perm,l,u = scipy.linalg.lu(A)\n",
    "print(l)\n",
    "print(u)\n",
    "print(perm)"
   ]
  },
  {
   "cell_type": "code",
   "execution_count": 17,
   "metadata": {},
   "outputs": [],
   "source": [
    "def ResolveTriangInf(L,b,p):\n",
    "    n = len(L)\n",
    "    y = np.zeros(n,dtype = 'float64')\n",
    "    for i in range(0,n):\n",
    "        y[i] = b[p[i]] - np.matmul(L[i,:i],y[:i])\n",
    "        if L[i,i] != 0.0:\n",
    "            y[i] = y[i]/L[i,i]\n",
    "    return y\n",
    "\n",
    "def ResolveTriangSup(U,b):\n",
    "    n = len(U)\n",
    "    x = np.zeros(n,dtype = 'float64')\n",
    "    for i in range(n-1,-1,-1):\n",
    "        x[i] = b[i] - np.matmul(U[i,i+1:],x[i+1:])\n",
    "        if (U[i,i] != 0.0):\n",
    "            x[i] = x[i] / U[i,i]\n",
    "    return x    \n",
    "\n",
    "def ResolveSistemaLinear(A,b):\n",
    "    L,U,pivot = EliminacaoGaussPivoteamento(A)\n",
    "    y = ResolveTriangInf(L,b,pivot)\n",
    "    x = ResolveTriangSup(U,y)\n",
    "    return x"
   ]
  },
  {
   "cell_type": "code",
   "execution_count": 18,
   "metadata": {},
   "outputs": [
    {
     "name": "stdout",
     "output_type": "stream",
     "text": [
      "[2. 3. 3. 9.]\n",
      "[2 1 0]\n",
      "[ 3.   4.5 -2. ]\n"
     ]
    }
   ],
   "source": [
    "y = ResolveTriangInf(L,b,pivot)\n",
    "print(b)\n",
    "print(pivot)\n",
    "print(y)"
   ]
  },
  {
   "cell_type": "code",
   "execution_count": 19,
   "metadata": {},
   "outputs": [
    {
     "name": "stdout",
     "output_type": "stream",
     "text": [
      "2\n",
      "1\n",
      "0\n"
     ]
    }
   ],
   "source": [
    "Y = range(len(L)-1,-1,-1)\n",
    "for i in Y:\n",
    "    print(i)"
   ]
  },
  {
   "cell_type": "code",
   "execution_count": 20,
   "metadata": {},
   "outputs": [
    {
     "name": "stdout",
     "output_type": "stream",
     "text": [
      "[-1.07142857 -0.875       0.09375   ]\n"
     ]
    }
   ],
   "source": [
    "x = ResolveSistemaLinear(A,b)\n",
    "print(x)"
   ]
  },
  {
   "cell_type": "code",
   "execution_count": 21,
   "metadata": {},
   "outputs": [
    {
     "name": "stdout",
     "output_type": "stream",
     "text": [
      "[[  272.  -252.   348.]\n",
      " [ -252.   565. -1121.]\n",
      " [  348. -1121.  2449.]]\n"
     ]
    }
   ],
   "source": [
    "ATA = A @ A.transpose()\n",
    "print(ATA)"
   ]
  },
  {
   "cell_type": "code",
   "execution_count": 22,
   "metadata": {},
   "outputs": [],
   "source": [
    "def Cholesky_Outer(R):\n",
    "    n = len(R)\n",
    "    for j in range(0,n):\n",
    "        if (R[j,j] > 0.0):\n",
    "            R[j,j] = math.sqrt(R[j,j])\n",
    "            R[j,j+1:] = R[j,j+1:]/R[j,j]\n",
    "            R[j+1:,j+1:] = R[j+1:,j+1:] - np.outer(R[j,j+1:],R[j,j+1:])\n",
    "    return np.triu(R)        \n",
    "            \n",
    "        "
   ]
  },
  {
   "cell_type": "code",
   "execution_count": 23,
   "metadata": {},
   "outputs": [
    {
     "name": "stdout",
     "output_type": "stream",
     "text": [
      "[[ 16.4924225  -15.27974438  21.10059938]\n",
      " [  0.          18.20794914 -43.85931822]\n",
      " [  0.           0.           8.95125194]]\n"
     ]
    }
   ],
   "source": [
    "R = ATA.copy()\n",
    "Fator = Cholesky_Outer(R)\n",
    "print(Fator)"
   ]
  },
  {
   "cell_type": "code",
   "execution_count": 24,
   "metadata": {},
   "outputs": [
    {
     "name": "stdout",
     "output_type": "stream",
     "text": [
      "[[ 16.4924225    0.           0.        ]\n",
      " [-15.27974438  18.20794914   0.        ]\n",
      " [ 21.10059938 -43.85931822   8.95125194]]\n",
      "[[  272.  -252.   348.]\n",
      " [ -252.   565. -1121.]\n",
      " [  348. -1121.  2449.]]\n"
     ]
    }
   ],
   "source": [
    "Fator2 = np.linalg.cholesky(ATA)\n",
    "print(Fator2)\n",
    "AR = np.matmul(Fator2,Fator)\n",
    "print(AR)"
   ]
  },
  {
   "cell_type": "code",
   "execution_count": null,
   "metadata": {},
   "outputs": [],
   "source": []
  },
  {
   "cell_type": "code",
   "execution_count": null,
   "metadata": {},
   "outputs": [],
   "source": []
  }
 ],
 "metadata": {
  "kernelspec": {
   "display_name": "Python 3.8.10 64-bit",
   "language": "python",
   "name": "python3"
  },
  "language_info": {
   "codemirror_mode": {
    "name": "ipython",
    "version": 3
   },
   "file_extension": ".py",
   "mimetype": "text/x-python",
   "name": "python",
   "nbconvert_exporter": "python",
   "pygments_lexer": "ipython3",
   "version": "3.8.10"
  },
  "vscode": {
   "interpreter": {
    "hash": "916dbcbb3f70747c44a77c7bcd40155683ae19c65e1c03b4aa3499c5328201f1"
   }
  }
 },
 "nbformat": 4,
 "nbformat_minor": 4
}
