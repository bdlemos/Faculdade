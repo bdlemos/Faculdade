{
 "cells": [
  {
   "cell_type": "markdown",
   "id": "46335492",
   "metadata": {},
   "source": [
    "# Álgebra Linear Computacional\n",
    "\n",
    "Algoritmo QR\n",
    "\n",
    "Profs. Alexandre Salles da Cunha e Ana Paula Couto da Silva"
   ]
  },
  {
   "cell_type": "code",
   "execution_count": 2,
   "id": "fd6a5b86",
   "metadata": {},
   "outputs": [],
   "source": [
    "import numpy as np\n",
    "from scipy import linalg\n",
    "from numpy.linalg import qr\n"
   ]
  },
  {
   "cell_type": "code",
   "execution_count": 5,
   "id": "da805ea9",
   "metadata": {
    "scrolled": false
   },
   "outputs": [
    {
     "name": "stdout",
     "output_type": "stream",
     "text": [
      "Matriz Simétrica\n",
      "Iteration 30:\n",
      "[[ 7.59262245e+002  8.77266549e-014 -4.09176634e-014  5.49413087e-014\n",
      "   6.79320473e-015]\n",
      " [ 6.07683409e-027  8.87405215e+001  1.16954386e-007  3.46495481e-014\n",
      "  -9.45146839e-018]\n",
      " [ 1.87384005e-035  1.16954398e-007  4.32203785e+001 -1.80294798e-015\n",
      "   4.74328476e-015]\n",
      " [ 3.89256953e-054 -8.19573211e-027  1.82966039e-018  9.74478310e+000\n",
      "  -8.60395660e-015]\n",
      " [ 3.61500608e-129  2.92832813e-102 -9.87059908e-095  1.06182096e-074\n",
      "   3.20717180e-002]]\n",
      "[7.59262245e+02 8.87405215e+01 4.32203785e+01 9.74478310e+00\n",
      " 3.20717180e-02]\n"
     ]
    }
   ],
   "source": [
    "A1 = np.array([[85, 102,70,129,137], \n",
    "              [102,167, 85,157,189],[70,85,110,91,151],[129,157,91,272,218],[137,189,151,218,267]])\n",
    "p = [1, 2, 5, 8, 10, 15, 20,30]\n",
    "print ('Matriz Simétrica')\n",
    "for i in range(30):\n",
    "    q, r = qr(A1)\n",
    "    A1 = np.dot(r, q)\n",
    "    if i+1 in p:\n",
    "        print(f'Iteration {i+1}:')\n",
    "        print(A1)"
   ]
  },
  {
   "cell_type": "code",
   "execution_count": 8,
   "id": "b4e912e7",
   "metadata": {
    "scrolled": false
   },
   "outputs": [
    {
     "name": "stdout",
     "output_type": "stream",
     "text": [
      "Matriz Não Simétrica\n",
      "Iteration 30:\n",
      "[[ 2.60248191e+01  2.41667004e-01  4.89612629e+00  8.29218978e+00\n",
      "  -2.06235822e+00]\n",
      " [ 1.97047799e-15 -7.47799783e+00 -9.71821156e-01 -2.33729277e+00\n",
      "  -2.01519857e+00]\n",
      " [ 2.90770203e-16 -1.71340610e+00  6.58952880e+00  3.95942644e-01\n",
      "   1.20048949e+00]\n",
      " [-4.48772803e-26 -2.76962175e-09  2.57500581e-08 -3.38703318e+00\n",
      "  -5.32874452e-01]\n",
      " [ 0.00000000e+00 -3.61723711e-22  3.14518940e-21 -6.91670170e-13\n",
      "   1.25068313e+00]]\n",
      "[27.88263323  8.22876047  6.77664575  3.091672    1.1682901 ]\n"
     ]
    }
   ],
   "source": [
    "A2 = np.array([[10,4,9,8,2], \n",
    "              [8,1,8,7,7],[5,3,6,1,9],[7,4,4,3,5],[0,2,9,7,3]])\n",
    "p = [1, 2, 5, 8, 10, 15, 20,30]\n",
    "print ('Matriz Não Simétrica')\n",
    "for i in range(30):\n",
    "    q, r = qr(A2)\n",
    "    A2 = np.dot(r, q)\n",
    "    if i+1 in p:\n",
    "        print(f'Iteration {i+1}:')\n",
    "        print(A2)"
   ]
  },
  {
   "cell_type": "code",
   "execution_count": null,
   "id": "6e52e3e8",
   "metadata": {},
   "outputs": [],
   "source": []
  }
 ],
 "metadata": {
  "kernelspec": {
   "display_name": "Python 3.8.10 64-bit",
   "language": "python",
   "name": "python3"
  },
  "language_info": {
   "codemirror_mode": {
    "name": "ipython",
    "version": 3
   },
   "file_extension": ".py",
   "mimetype": "text/x-python",
   "name": "python",
   "nbconvert_exporter": "python",
   "pygments_lexer": "ipython3",
   "version": "3.8.10"
  },
  "vscode": {
   "interpreter": {
    "hash": "916dbcbb3f70747c44a77c7bcd40155683ae19c65e1c03b4aa3499c5328201f1"
   }
  }
 },
 "nbformat": 4,
 "nbformat_minor": 5
}
