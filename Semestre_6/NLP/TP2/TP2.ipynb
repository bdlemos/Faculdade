{
 "cells": [
  {
   "cell_type": "markdown",
   "metadata": {},
   "source": [
    "- Nome: Bernardo Dutra Lemos\n",
    "- Matricula: 2022043949"
   ]
  },
  {
   "cell_type": "markdown",
   "metadata": {},
   "source": [
    "O trabalho em questão consiste em analisar o desempenho de algum modelo de linguagem para a tarefa de POS Tagging. O modelo escolhido foi o postagger-portugues, que é um finetunning do BERTimbau, que, por sua vez, nada mais é que uma versão do BERT treinado com o vocabulário portugues. Esse postagger foi treinado com o corpus MaxMorpho, que é o mesmo da documentação do Trabalho Prático \n",
    "\n",
    "Eu tentei fazer o finetunning do BERTimbau localmente, entretanto estava super demorado(cerca de 19 horas por epoca), e optei por usar esse modelo já treinado e fazer a validação dele usando os dados de teste."
   ]
  },
  {
   "cell_type": "markdown",
   "metadata": {},
   "source": [
    "# Importando o modelo da biblioteca \"transformers\""
   ]
  },
  {
   "cell_type": "code",
   "execution_count": 17,
   "metadata": {},
   "outputs": [
    {
     "name": "stderr",
     "output_type": "stream",
     "text": [
      "2025-01-23 11:28:51.766252: I tensorflow/core/util/port.cc:113] oneDNN custom operations are on. You may see slightly different numerical results due to floating-point round-off errors from different computation orders. To turn them off, set the environment variable `TF_ENABLE_ONEDNN_OPTS=0`.\n",
      "2025-01-23 11:28:52.137267: E external/local_xla/xla/stream_executor/cuda/cuda_dnn.cc:9261] Unable to register cuDNN factory: Attempting to register factory for plugin cuDNN when one has already been registered\n",
      "2025-01-23 11:28:52.137383: E external/local_xla/xla/stream_executor/cuda/cuda_fft.cc:607] Unable to register cuFFT factory: Attempting to register factory for plugin cuFFT when one has already been registered\n",
      "2025-01-23 11:28:52.206634: E external/local_xla/xla/stream_executor/cuda/cuda_blas.cc:1515] Unable to register cuBLAS factory: Attempting to register factory for plugin cuBLAS when one has already been registered\n",
      "2025-01-23 11:28:52.312109: I tensorflow/core/platform/cpu_feature_guard.cc:182] This TensorFlow binary is optimized to use available CPU instructions in performance-critical operations.\n",
      "To enable the following instructions: AVX2 AVX512F AVX512_VNNI FMA, in other operations, rebuild TensorFlow with the appropriate compiler flags.\n",
      "2025-01-23 11:28:53.471472: W tensorflow/compiler/tf2tensorrt/utils/py_utils.cc:38] TF-TRT Warning: Could not find TensorRT\n"
     ]
    }
   ],
   "source": [
    "from transformers import pipeline\n",
    "from tqdm import tqdm\n",
    "import re"
   ]
  },
  {
   "cell_type": "code",
   "execution_count": 18,
   "metadata": {},
   "outputs": [
    {
     "name": "stderr",
     "output_type": "stream",
     "text": [
      "/home/bdlemos/.local/lib/python3.10/site-packages/huggingface_hub/file_download.py:795: FutureWarning: `resume_download` is deprecated and will be removed in version 1.0.0. Downloads always resume when possible. If you want to force a new download, use `force_download=True`.\n",
      "  warnings.warn(\n"
     ]
    }
   ],
   "source": [
    "pipe = pipeline(\"token-classification\", model=\"lisaterumi/postagger-portuguese\",aggregation_strategy=None)"
   ]
  },
  {
   "cell_type": "markdown",
   "metadata": {},
   "source": [
    "Fazendo teste com frase aleatória para identificar o formato da saída"
   ]
  },
  {
   "cell_type": "code",
   "execution_count": 19,
   "metadata": {},
   "outputs": [
    {
     "name": "stderr",
     "output_type": "stream",
     "text": [
      "Asking to truncate to max_length but no maximum length is provided and the model has no predefined maximum length. Default to no truncation.\n"
     ]
    },
    {
     "data": {
      "text/plain": [
       "[{'entity': 'N',\n",
       "  'score': 0.7346732,\n",
       "  'index': 1,\n",
       "  'word': 'Sal',\n",
       "  'start': 0,\n",
       "  'end': 3},\n",
       " {'entity': 'N',\n",
       "  'score': 0.61871666,\n",
       "  'index': 2,\n",
       "  'word': '##to',\n",
       "  'start': 3,\n",
       "  'end': 5},\n",
       " {'entity': 'N',\n",
       "  'score': 0.9268626,\n",
       "  'index': 3,\n",
       "  'word': 'sete',\n",
       "  'start': 6,\n",
       "  'end': 10},\n",
       " {'entity': 'PU',\n",
       "  'score': 0.99989283,\n",
       "  'index': 4,\n",
       "  'word': '.',\n",
       "  'start': 11,\n",
       "  'end': 12}]"
      ]
     },
     "execution_count": 19,
     "metadata": {},
     "output_type": "execute_result"
    }
   ],
   "source": [
    "pipe('Salto sete .')"
   ]
  },
  {
   "cell_type": "markdown",
   "metadata": {},
   "source": [
    "# Funções de tratamento dos dados"
   ]
  },
  {
   "cell_type": "code",
   "execution_count": 20,
   "metadata": {},
   "outputs": [],
   "source": [
    "def tratamento_dados(conteudo):\n",
    "    frases = conteudo.split('\\n')\n",
    "    frases = [frase.split(' ') for frase in frases if len(frase) > 1]\n",
    "    frases = [[palavra.split('_') for palavra in frase] for frase in frases]\n",
    "    return frases"
   ]
  },
  {
   "cell_type": "markdown",
   "metadata": {},
   "source": [
    "Conhecendo formato das frases no arquivo de entrada"
   ]
  },
  {
   "cell_type": "code",
   "execution_count": 21,
   "metadata": {},
   "outputs": [
    {
     "name": "stdout",
     "output_type": "stream",
     "text": [
      "Salto_N sete_ADJ\n",
      "\n"
     ]
    }
   ],
   "source": [
    "with open('macmorpho-test.txt', 'r', encoding='utf-8') as file:\n",
    "    conteudo = file.read()\n",
    "print(conteudo[:17])"
   ]
  },
  {
   "cell_type": "code",
   "execution_count": 22,
   "metadata": {},
   "outputs": [
    {
     "data": {
      "text/plain": [
       "[[['Salto', 'N'], ['sete', 'ADJ']]]"
      ]
     },
     "execution_count": 22,
     "metadata": {},
     "output_type": "execute_result"
    }
   ],
   "source": [
    "tratamento_dados(conteudo[:18])"
   ]
  },
  {
   "cell_type": "markdown",
   "metadata": {},
   "source": [
    "# Rodando os testes e salvando as prediçoes"
   ]
  },
  {
   "cell_type": "code",
   "execution_count": 23,
   "metadata": {},
   "outputs": [
    {
     "name": "stderr",
     "output_type": "stream",
     "text": [
      "100%|██████████| 9987/9987 [13:03<00:00, 12.74it/s]\n"
     ]
    }
   ],
   "source": [
    "data_test = tratamento_dados(conteudo)\n",
    "\n",
    "predicts = []\n",
    "\n",
    "for frase in tqdm(data_test):\n",
    "    # Coloca a frase em formato de string para passar para o modelo\n",
    "    frase = [palavra for palavra,_ in frase]\n",
    "    frase = \" \".join(frase)\n",
    "    # Substitui vírgula por ponto nos numeros decimais\n",
    "    frase = re.sub(r'(\\d+),(\\d+)', r'\\1.\\2', frase)\n",
    "    # Faz a predição da frase\n",
    "    pred = pipe(frase)\n",
    "    predicts.append(pred)"
   ]
  },
  {
   "cell_type": "markdown",
   "metadata": {},
   "source": [
    "Recuperando as labels"
   ]
  },
  {
   "cell_type": "code",
   "execution_count": 24,
   "metadata": {},
   "outputs": [],
   "source": [
    "labels = [[token for _,token in palavras] for palavras in data_test]"
   ]
  },
  {
   "cell_type": "markdown",
   "metadata": {},
   "source": [
    "# Analisando resultados"
   ]
  },
  {
   "cell_type": "markdown",
   "metadata": {},
   "source": [
    "## Funçoes para colocar predições no mesmo formato que labels\n",
    "\n",
    "Como o tokenizer do modelo quebra palavras em mais de um token e da uma predição para cada um, é preciso junta-los novamente <br> e a forma como fiz isso é pegando todos os subtokens de uma palavra e pegando a predição de maior score."
   ]
  },
  {
   "cell_type": "code",
   "execution_count": 25,
   "metadata": {},
   "outputs": [],
   "source": [
    "def reconstruct_words(predictions):\n",
    "    reconstructed = []\n",
    "    current_word = \"\"\n",
    "    current_entities = []\n",
    "    \n",
    "    for pred in predictions:\n",
    "        word = pred['word']\n",
    "        entity = pred['entity']\n",
    "        score = pred['score']\n",
    "\n",
    "        if word.startswith(\"##\"):\n",
    "            current_word += word[2:]  # Remove \"##\" e junta com a palavra anterior\n",
    "        else:\n",
    "            if current_word:  # Salvar a palavra anterior antes de iniciar uma nova\n",
    "                reconstructed.append({\"word\": current_word, \"entities\": current_entities})\n",
    "            current_word = word  # Inicia uma nova palavra\n",
    "            current_entities = []\n",
    "        \n",
    "        current_entities.append({\"entity\": entity, \"score\": score})\n",
    "    \n",
    "    # Adiciona a última palavra processada\n",
    "    if current_word:\n",
    "        reconstructed.append({\"word\": current_word, \"entities\": current_entities})\n",
    "    \n",
    "    return reconstructed\n"
   ]
  },
  {
   "cell_type": "code",
   "execution_count": 26,
   "metadata": {},
   "outputs": [],
   "source": [
    "def align_predictions_with_labels(predictions, labels):\n",
    "    \"\"\"\n",
    "    Compara previsões reconstruídas com as etiquetas reais.\n",
    "    \"\"\"\n",
    "    aligned_predictions = []\n",
    "    aligned_labels = []\n",
    "\n",
    "    for pred_sentence, label_sentence in zip(predictions, labels):\n",
    "        pred_words = reconstruct_words(pred_sentence)\n",
    "        # print(pred_words)\n",
    "        label_words = label_sentence\n",
    "\n",
    "        # Verifica alinhamento palavra a palavra\n",
    "        for i, label_word in enumerate(label_words):\n",
    "            score = 0\n",
    "            pred_entity = \"\"\n",
    "            for val in pred_words[i][\"entities\"]:\n",
    "            # pred_entity = pred_words[i][\"entities\"][0][\"entity\"]  # Usar apenas a primeira entidade para simplificação\n",
    "                if val['score'] >= score:\n",
    "                    pred_entity = val[\"entity\"]\n",
    "                    score = val[\"score\"]\n",
    "            aligned_predictions.append(pred_entity)\n",
    "            # print(pred_words[i][\"entities\"][0][\"entity\"])\n",
    "            aligned_labels.append(label_word)  # Etiqueta da palavra\n",
    "\n",
    "    return aligned_predictions, aligned_labels\n"
   ]
  },
  {
   "cell_type": "markdown",
   "metadata": {},
   "source": [
    "## Análise de resultados"
   ]
  },
  {
   "cell_type": "code",
   "execution_count": 41,
   "metadata": {},
   "outputs": [
    {
     "name": "stderr",
     "output_type": "stream",
     "text": [
      "/home/bdlemos/.local/lib/python3.10/site-packages/sklearn/metrics/_classification.py:1517: UndefinedMetricWarning: Precision is ill-defined and being set to 0.0 in labels with no predicted samples. Use `zero_division` parameter to control this behavior.\n",
      "  _warn_prf(average, modifier, f\"{metric.capitalize()} is\", len(result))\n",
      "/home/bdlemos/.local/lib/python3.10/site-packages/sklearn/metrics/_classification.py:1517: UndefinedMetricWarning: Precision is ill-defined and being set to 0.0 in labels with no predicted samples. Use `zero_division` parameter to control this behavior.\n",
      "  _warn_prf(average, modifier, f\"{metric.capitalize()} is\", len(result))\n",
      "/home/bdlemos/.local/lib/python3.10/site-packages/sklearn/metrics/_classification.py:1517: UndefinedMetricWarning: Precision is ill-defined and being set to 0.0 in labels with no predicted samples. Use `zero_division` parameter to control this behavior.\n",
      "  _warn_prf(average, modifier, f\"{metric.capitalize()} is\", len(result))\n"
     ]
    },
    {
     "data": {
      "text/html": [
       "<div>\n",
       "<style scoped>\n",
       "    .dataframe tbody tr th:only-of-type {\n",
       "        vertical-align: middle;\n",
       "    }\n",
       "\n",
       "    .dataframe tbody tr th {\n",
       "        vertical-align: top;\n",
       "    }\n",
       "\n",
       "    .dataframe thead th {\n",
       "        text-align: right;\n",
       "    }\n",
       "</style>\n",
       "<table border=\"1\" class=\"dataframe\">\n",
       "  <thead>\n",
       "    <tr style=\"text-align: right;\">\n",
       "      <th></th>\n",
       "      <th>precision</th>\n",
       "      <th>recall</th>\n",
       "      <th>f1-score</th>\n",
       "      <th>support</th>\n",
       "    </tr>\n",
       "  </thead>\n",
       "  <tbody>\n",
       "    <tr>\n",
       "      <th>N</th>\n",
       "      <td>0.864998</td>\n",
       "      <td>0.847600</td>\n",
       "      <td>0.856211</td>\n",
       "      <td>36542.0</td>\n",
       "    </tr>\n",
       "    <tr>\n",
       "      <th>PU</th>\n",
       "      <td>0.877996</td>\n",
       "      <td>0.865856</td>\n",
       "      <td>0.871884</td>\n",
       "      <td>26904.0</td>\n",
       "    </tr>\n",
       "    <tr>\n",
       "      <th>V</th>\n",
       "      <td>0.920179</td>\n",
       "      <td>0.918218</td>\n",
       "      <td>0.919198</td>\n",
       "      <td>19711.0</td>\n",
       "    </tr>\n",
       "    <tr>\n",
       "      <th>PREP</th>\n",
       "      <td>0.863435</td>\n",
       "      <td>0.872750</td>\n",
       "      <td>0.868068</td>\n",
       "      <td>16778.0</td>\n",
       "    </tr>\n",
       "    <tr>\n",
       "      <th>NPROP</th>\n",
       "      <td>0.883915</td>\n",
       "      <td>0.877259</td>\n",
       "      <td>0.880574</td>\n",
       "      <td>15936.0</td>\n",
       "    </tr>\n",
       "    <tr>\n",
       "      <th>ART</th>\n",
       "      <td>0.900175</td>\n",
       "      <td>0.901749</td>\n",
       "      <td>0.900961</td>\n",
       "      <td>12580.0</td>\n",
       "    </tr>\n",
       "    <tr>\n",
       "      <th>PREP+ART</th>\n",
       "      <td>0.870968</td>\n",
       "      <td>0.863979</td>\n",
       "      <td>0.867459</td>\n",
       "      <td>10219.0</td>\n",
       "    </tr>\n",
       "    <tr>\n",
       "      <th>ADJ</th>\n",
       "      <td>0.848369</td>\n",
       "      <td>0.854220</td>\n",
       "      <td>0.851284</td>\n",
       "      <td>8554.0</td>\n",
       "    </tr>\n",
       "    <tr>\n",
       "      <th>ADV</th>\n",
       "      <td>0.863506</td>\n",
       "      <td>0.829416</td>\n",
       "      <td>0.846118</td>\n",
       "      <td>5446.0</td>\n",
       "    </tr>\n",
       "    <tr>\n",
       "      <th>KC</th>\n",
       "      <td>0.846764</td>\n",
       "      <td>0.848819</td>\n",
       "      <td>0.847790</td>\n",
       "      <td>4531.0</td>\n",
       "    </tr>\n",
       "    <tr>\n",
       "      <th>PCP</th>\n",
       "      <td>0.866611</td>\n",
       "      <td>0.862088</td>\n",
       "      <td>0.864344</td>\n",
       "      <td>3640.0</td>\n",
       "    </tr>\n",
       "    <tr>\n",
       "      <th>PROADJ</th>\n",
       "      <td>0.879977</td>\n",
       "      <td>0.879204</td>\n",
       "      <td>0.879590</td>\n",
       "      <td>3419.0</td>\n",
       "    </tr>\n",
       "    <tr>\n",
       "      <th>PROPESS</th>\n",
       "      <td>0.789300</td>\n",
       "      <td>0.831015</td>\n",
       "      <td>0.809621</td>\n",
       "      <td>2876.0</td>\n",
       "    </tr>\n",
       "    <tr>\n",
       "      <th>NUM</th>\n",
       "      <td>0.475242</td>\n",
       "      <td>0.732782</td>\n",
       "      <td>0.576560</td>\n",
       "      <td>2541.0</td>\n",
       "    </tr>\n",
       "    <tr>\n",
       "      <th>KS</th>\n",
       "      <td>0.865967</td>\n",
       "      <td>0.845154</td>\n",
       "      <td>0.855434</td>\n",
       "      <td>2538.0</td>\n",
       "    </tr>\n",
       "    <tr>\n",
       "      <th>PRO-KS</th>\n",
       "      <td>0.831481</td>\n",
       "      <td>0.851936</td>\n",
       "      <td>0.841584</td>\n",
       "      <td>2195.0</td>\n",
       "    </tr>\n",
       "    <tr>\n",
       "      <th>PROSUB</th>\n",
       "      <td>0.870079</td>\n",
       "      <td>0.846203</td>\n",
       "      <td>0.857975</td>\n",
       "      <td>1567.0</td>\n",
       "    </tr>\n",
       "    <tr>\n",
       "      <th>PDEN</th>\n",
       "      <td>0.752671</td>\n",
       "      <td>0.838828</td>\n",
       "      <td>0.793417</td>\n",
       "      <td>1092.0</td>\n",
       "    </tr>\n",
       "    <tr>\n",
       "      <th>PREP+PROADJ</th>\n",
       "      <td>0.884868</td>\n",
       "      <td>0.870550</td>\n",
       "      <td>0.877651</td>\n",
       "      <td>309.0</td>\n",
       "    </tr>\n",
       "    <tr>\n",
       "      <th>CUR</th>\n",
       "      <td>0.000000</td>\n",
       "      <td>0.000000</td>\n",
       "      <td>0.000000</td>\n",
       "      <td>296.0</td>\n",
       "    </tr>\n",
       "    <tr>\n",
       "      <th>ADV-KS</th>\n",
       "      <td>0.773913</td>\n",
       "      <td>0.773913</td>\n",
       "      <td>0.773913</td>\n",
       "      <td>230.0</td>\n",
       "    </tr>\n",
       "    <tr>\n",
       "      <th>PREP+PROSUB</th>\n",
       "      <td>0.830065</td>\n",
       "      <td>0.814103</td>\n",
       "      <td>0.822006</td>\n",
       "      <td>156.0</td>\n",
       "    </tr>\n",
       "    <tr>\n",
       "      <th>PREP+PROPESS</th>\n",
       "      <td>0.881356</td>\n",
       "      <td>0.825397</td>\n",
       "      <td>0.852459</td>\n",
       "      <td>126.0</td>\n",
       "    </tr>\n",
       "    <tr>\n",
       "      <th>IN</th>\n",
       "      <td>0.512000</td>\n",
       "      <td>0.653061</td>\n",
       "      <td>0.573991</td>\n",
       "      <td>98.0</td>\n",
       "    </tr>\n",
       "    <tr>\n",
       "      <th>PREP+PRO-KS</th>\n",
       "      <td>0.793103</td>\n",
       "      <td>0.793103</td>\n",
       "      <td>0.793103</td>\n",
       "      <td>58.0</td>\n",
       "    </tr>\n",
       "    <tr>\n",
       "      <th>PREP+ADV</th>\n",
       "      <td>1.000000</td>\n",
       "      <td>0.870968</td>\n",
       "      <td>0.931034</td>\n",
       "      <td>31.0</td>\n",
       "    </tr>\n",
       "  </tbody>\n",
       "</table>\n",
       "</div>"
      ],
      "text/plain": [
       "              precision    recall  f1-score  support\n",
       "N              0.864998  0.847600  0.856211  36542.0\n",
       "PU             0.877996  0.865856  0.871884  26904.0\n",
       "V              0.920179  0.918218  0.919198  19711.0\n",
       "PREP           0.863435  0.872750  0.868068  16778.0\n",
       "NPROP          0.883915  0.877259  0.880574  15936.0\n",
       "ART            0.900175  0.901749  0.900961  12580.0\n",
       "PREP+ART       0.870968  0.863979  0.867459  10219.0\n",
       "ADJ            0.848369  0.854220  0.851284   8554.0\n",
       "ADV            0.863506  0.829416  0.846118   5446.0\n",
       "KC             0.846764  0.848819  0.847790   4531.0\n",
       "PCP            0.866611  0.862088  0.864344   3640.0\n",
       "PROADJ         0.879977  0.879204  0.879590   3419.0\n",
       "PROPESS        0.789300  0.831015  0.809621   2876.0\n",
       "NUM            0.475242  0.732782  0.576560   2541.0\n",
       "KS             0.865967  0.845154  0.855434   2538.0\n",
       "PRO-KS         0.831481  0.851936  0.841584   2195.0\n",
       "PROSUB         0.870079  0.846203  0.857975   1567.0\n",
       "PDEN           0.752671  0.838828  0.793417   1092.0\n",
       "PREP+PROADJ    0.884868  0.870550  0.877651    309.0\n",
       "CUR            0.000000  0.000000  0.000000    296.0\n",
       "ADV-KS         0.773913  0.773913  0.773913    230.0\n",
       "PREP+PROSUB    0.830065  0.814103  0.822006    156.0\n",
       "PREP+PROPESS   0.881356  0.825397  0.852459    126.0\n",
       "IN             0.512000  0.653061  0.573991     98.0\n",
       "PREP+PRO-KS    0.793103  0.793103  0.793103     58.0\n",
       "PREP+ADV       1.000000  0.870968  0.931034     31.0"
      ]
     },
     "execution_count": 41,
     "metadata": {},
     "output_type": "execute_result"
    }
   ],
   "source": [
    "from sklearn.metrics import classification_report\n",
    "import matplotlib.pyplot as plt\n",
    "import seaborn as sns\n",
    "import pandas as pd\n",
    "\n",
    "aligned_predictions, aligned_labels = align_predictions_with_labels(predicts, labels)\n",
    "\n",
    "# Relatório de métricas\n",
    "# print(classification_report(aligned_labels, aligned_predictions))\n",
    "metrics_df = pd.DataFrame(classification_report(aligned_labels, aligned_predictions, output_dict=True)).drop(['macro avg', 'accuracy', 'weighted avg'],axis=1).T\n",
    "\n",
    "metrics_df.sort_values(by='support', ascending=False)"
   ]
  },
  {
   "cell_type": "code",
   "execution_count": null,
   "metadata": {},
   "outputs": [
    {
     "name": "stderr",
     "output_type": "stream",
     "text": [
      "/home/bdlemos/.local/lib/python3.10/site-packages/sklearn/metrics/_classification.py:1517: UndefinedMetricWarning: Precision is ill-defined and being set to 0.0 in labels with no predicted samples. Use `zero_division` parameter to control this behavior.\n",
      "  _warn_prf(average, modifier, f\"{metric.capitalize()} is\", len(result))\n",
      "/home/bdlemos/.local/lib/python3.10/site-packages/sklearn/metrics/_classification.py:1517: UndefinedMetricWarning: Precision is ill-defined and being set to 0.0 in labels with no predicted samples. Use `zero_division` parameter to control this behavior.\n",
      "  _warn_prf(average, modifier, f\"{metric.capitalize()} is\", len(result))\n",
      "/home/bdlemos/.local/lib/python3.10/site-packages/sklearn/metrics/_classification.py:1517: UndefinedMetricWarning: Precision is ill-defined and being set to 0.0 in labels with no predicted samples. Use `zero_division` parameter to control this behavior.\n",
      "  _warn_prf(average, modifier, f\"{metric.capitalize()} is\", len(result))\n"
     ]
    }
   ],
   "source": [
    "metrics = classification_report(aligned_labels, aligned_predictions, output_dict=True);"
   ]
  },
  {
   "cell_type": "code",
   "execution_count": 33,
   "metadata": {},
   "outputs": [
    {
     "data": {
      "image/png": "[encoded data removed]",
      "text/plain": [
       "<Figure size 800x600 with 2 Axes>"
      ]
     },
     "metadata": {},
     "output_type": "display_data"
    }
   ],
   "source": [
    "\n",
    "metrics_df = pd.DataFrame(metrics).iloc[:-1, :].T  # Excluir a última linha (suporte)\n",
    "\n",
    "metrics_df = metrics_df.sort_values(by='f1-score', ascending=False)\n",
    "\n",
    "plt.figure(figsize=(8, 6))\n",
    "sns.heatmap(metrics_df.drop(['macro avg', 'accuracy', 'weighted avg']), annot=True, cmap='Blues', fmt='.2f', linewidths=0.5, cbar=True)\n",
    "\n",
    "# Adicionar título e rótulos\n",
    "plt.title(\"Relatório de Classificação - Heatmap (Ordenado por F1-Score)\", fontsize=14)\n",
    "plt.xlabel(\"Métricas\", fontsize=12)\n",
    "plt.ylabel(\"Classes\", fontsize=12)\n",
    "\n",
    "plt.tight_layout()\n",
    "plt.show()\n"
   ]
  },
  {
   "cell_type": "code",
   "execution_count": 34,
   "metadata": {},
   "outputs": [
    {
     "data": {
      "text/html": [
       "<div>\n",
       "<style scoped>\n",
       "    .dataframe tbody tr th:only-of-type {\n",
       "        vertical-align: middle;\n",
       "    }\n",
       "\n",
       "    .dataframe tbody tr th {\n",
       "        vertical-align: top;\n",
       "    }\n",
       "\n",
       "    .dataframe thead th {\n",
       "        text-align: right;\n",
       "    }\n",
       "</style>\n",
       "<table border=\"1\" class=\"dataframe\">\n",
       "  <thead>\n",
       "    <tr style=\"text-align: right;\">\n",
       "      <th></th>\n",
       "      <th>precision</th>\n",
       "      <th>recall</th>\n",
       "      <th>f1-score</th>\n",
       "    </tr>\n",
       "  </thead>\n",
       "  <tbody>\n",
       "    <tr>\n",
       "      <th>accuracy</th>\n",
       "      <td>0.865047</td>\n",
       "      <td>0.865047</td>\n",
       "      <td>0.865047</td>\n",
       "    </tr>\n",
       "    <tr>\n",
       "      <th>macro avg</th>\n",
       "      <td>0.797959</td>\n",
       "      <td>0.806468</td>\n",
       "      <td>0.800470</td>\n",
       "    </tr>\n",
       "    <tr>\n",
       "      <th>weighted avg</th>\n",
       "      <td>0.866890</td>\n",
       "      <td>0.865047</td>\n",
       "      <td>0.865504</td>\n",
       "    </tr>\n",
       "  </tbody>\n",
       "</table>\n",
       "</div>"
      ],
      "text/plain": [
       "              precision    recall  f1-score\n",
       "accuracy       0.865047  0.865047  0.865047\n",
       "macro avg      0.797959  0.806468  0.800470\n",
       "weighted avg   0.866890  0.865047  0.865504"
      ]
     },
     "execution_count": 34,
     "metadata": {},
     "output_type": "execute_result"
    }
   ],
   "source": [
    "metrics_df.loc[['accuracy', 'macro avg', 'weighted avg'], :]"
   ]
  },
  {
   "cell_type": "code",
   "execution_count": 35,
   "metadata": {},
   "outputs": [
    {
     "name": "stderr",
     "output_type": "stream",
     "text": [
      "100%|██████████| 3/3 [00:00<00:00, 14.07it/s]"
     ]
    },
    {
     "name": "stdout",
     "output_type": "stream",
     "text": [
      "Os africanos trouxeram a linguagem e o culto do corpo .\n",
      "['ART', 'N', 'V', 'ART', 'N', 'KC', 'ART', 'N', 'PREP+ART', 'N', 'PU']\n",
      "['ART', 'N', 'V', 'ART', 'N', 'KC', 'ART', 'N', 'PREP+ART', 'N', 'PU']\n",
      "O latino , tupi , afro .\n",
      "['ART', 'N', 'PU', 'N', 'PU', 'N', 'PU']\n",
      "['ART', 'N', 'PU', 'N', 'PU', 'N', 'PU']\n",
      "\" Ao lado da velha representação romântica do 19 o índio é sempre tupi - estava evidente a exaltação de um sincretismo que de biológico e racial se faz cultural e social .\n",
      "['PU', 'PREP+ART', 'N', 'PREP+ART', 'ADJ', 'N', 'ADJ', 'PREP+ART', 'NUM', 'ART', 'N', 'N', 'V', 'ADV', 'N', 'PU', 'V', 'ADJ', 'ART', 'N', 'N', 'PREP', 'ART', 'N', 'N', 'N', 'PRO-KS', 'PREP', 'ADJ', 'KC', 'ADJ', 'PROPESS', 'V', 'ADJ', 'KC', 'ADJ', 'PU']\n",
      "['PU', 'PREP+ART', 'N', 'PREP+ART', 'ADJ', 'N', 'ADJ', 'PREP+ART', 'N', 'ART', 'N', 'V', 'ADV', 'N', 'PU', 'V', 'ADJ', 'ART', 'N', 'PREP', 'ART', 'N', 'PRO-KS', 'PREP', 'ADJ', 'KC', 'ADJ', 'PROPESS', 'V', 'ADJ', 'KC', 'ADJ', 'PU']\n"
     ]
    },
    {
     "name": "stderr",
     "output_type": "stream",
     "text": [
      "\n"
     ]
    }
   ],
   "source": [
    "for frase in tqdm(data_test[123:126]):\n",
    "    l = [token for _,token in frase]\n",
    "    frase = [palavra for palavra,_ in frase]\n",
    "    frase = \" \".join(frase)\n",
    "    frase = re.sub(r'(\\d+),(\\d+)', r'\\1.\\2', frase)\n",
    "    pred = pipe(frase)\n",
    "    print(frase)\n",
    "    print([i['entity'] for i in pred])\n",
    "    print(l)"
   ]
  },
  {
   "cell_type": "markdown",
   "metadata": {},
   "source": [
    "# Conclusões\n",
    "\n",
    "**Pontos Positivos:**\n",
    "\n",
    "* **Desempenho em classes frequentes:** O modelo demonstrou excelência ao identificar substantivos (N), artigos (ART), nomes próprios (NPROP), verbos (V) e pronomes (PU). A alta precisão e recall nessas classes, que compõem a maior parte do corpus, contribuíram significativamente para a acurácia geral de 87%.\n",
    "* **Mapeando relações complexas:** O modelo mostrou-se capaz de reconhecer combinações de preposições com artigos (PREP+ART), adjetivos (PREP+PROADJ) e pronomes pessoais (PREP+PROPESS), indicando uma boa compreensão de relações mais complexas entre palavras.\n",
    "* **Equilíbrio entre classes:** A métrica weighted average confirma a robustez do modelo, demonstrando um bom desempenho em classes com diferentes frequências, evitando o viés para as classes mais comuns.\n",
    "\n",
    "**Pontos de Melhoria:**\n",
    "\n",
    "* **Classes com poucos exemplos:** Classes como moedas (CUR), interjeições (IN) e combinações menos frequentes de preposições com pronomes ou advérbios apresentaram dificuldades, possivelmente devido à escassez de dados de treinamento.\n",
    "* **Distinção entre números e substantivos:** O modelo teve problemas em diferenciar números (NUM) de substantivos (N) e advérbios (ADV), indicando a necessidade de aprimorar a representação dessas classes.\n",
    "* **Classes compostas raras:** Combinações de preposições com advérbios conjuntivos subordinados (PREP+ADV-KS) e pronomes conjuntivos subordinados (PREP+PRO-KS) apresentaram resultados instáveis, sugerindo que mais dados são necessários para confirmar esses resultados.\n",
    "* **Impacto do desbalanceamento:** A alta frequência de substantivos e pronomes pode ter mascarado dificuldades em outras classes, exigindo uma análise mais detalhada do desempenho do modelo em cada categoria.\n",
    "\n"
   ]
  }
 ],
 "metadata": {
  "kernelspec": {
   "display_name": "Python 3",
   "language": "python",
   "name": "python3"
  },
  "language_info": {
   "codemirror_mode": {
    "name": "ipython",
    "version": 3
   },
   "file_extension": ".py",
   "mimetype": "text/x-python",
   "name": "python",
   "nbconvert_exporter": "python",
   "pygments_lexer": "ipython3",
   "version": "3.10.12"
  }
 },
 "nbformat": 4,
 "nbformat_minor": 2
}
