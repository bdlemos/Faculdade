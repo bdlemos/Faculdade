{
 "cells": [
  {
   "cell_type": "code",
   "execution_count": 1,
   "metadata": {},
   "outputs": [],
   "source": [
    "import numpy as np\n",
    "import pandas as pd\n",
    "import matplotlib.pyplot as plt\n",
    "import time\n",
    "from tqdm import tqdm"
   ]
  },
  {
   "cell_type": "markdown",
   "metadata": {},
   "source": [
    "# Gerador de dados"
   ]
  },
  {
   "cell_type": "code",
   "execution_count": 2,
   "metadata": {},
   "outputs": [],
   "source": [
    "def generate_points_df(n, m = 5, cov = np.eye(2)):\n",
    "    def generate_points(n, mean, cov):\n",
    "        points = np.random.multivariate_normal(mean, cov, n)\n",
    "        return points  \n",
    "    means = np.random.randint(-15, 15, size=(m,2))\n",
    "    data = []\n",
    "    labels = []\n",
    "    for i,mean in enumerate(means):\n",
    "        cov = np.eye(2)\n",
    "        cov = np.array([[1, 0.4], [0.4, 1]])\n",
    "        points = generate_points(n, mean, cov)\n",
    "        labels += [i] * n\n",
    "        data.append(points)\n",
    "    df = pd.DataFrame(np.vstack(data), columns=['x', 'y'])\n",
    "    df['label'] = labels\n",
    "    return df"
   ]
  },
  {
   "cell_type": "code",
   "execution_count": 3,
   "metadata": {},
   "outputs": [],
   "source": [
    "# for i in range(10):\n",
    "#     num_of_means = np.random.randint(8, 15)\n",
    "#     #generate a random covariance matrix\n",
    "#     cov = np.random.rand(2,2)\n",
    "#     cov[0,0] = 1\n",
    "#     cov[1,1] = 1\n",
    "#     df = generate_points_df(200, num_of_means, cov)\n",
    "#     #plt.scatter(df['x'], df['y'], c=df['label'])\n",
    "#     #df.to_csv(f'sinteticos/data_{i+1}.csv', index=False)\n",
    "    "
   ]
  }
 ],
 "metadata": {
  "kernelspec": {
   "display_name": "Python 3",
   "language": "python",
   "name": "python3"
  },
  "language_info": {
   "codemirror_mode": {
    "name": "ipython",
    "version": 3
   },
   "file_extension": ".py",
   "mimetype": "text/x-python",
   "name": "python",
   "nbconvert_exporter": "python",
   "pygments_lexer": "ipython3",
   "version": "3.10.12"
  }
 },
 "nbformat": 4,
 "nbformat_minor": 2
}
